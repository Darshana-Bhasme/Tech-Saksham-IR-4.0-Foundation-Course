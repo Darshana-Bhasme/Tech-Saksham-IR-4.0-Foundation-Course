{
 "cells": [
  {
   "cell_type": "code",
   "execution_count": null,
   "id": "06172d1f-d7d9-4361-8cc4-2c1ea8d4ce35",
   "metadata": {},
   "outputs": [],
   "source": []
  },
  {
   "cell_type": "code",
   "execution_count": 1,
   "id": "bccf3e60-5d0c-4f7a-9e16-a90a1e3e2192",
   "metadata": {},
   "outputs": [
    {
     "name": "stdout",
     "output_type": "stream",
     "text": [
      "[7 8 9 2]\n"
     ]
    }
   ],
   "source": [
    "import numpy as np\n",
    "a=np.array([7,8,9,2]) # difference in output of array and list is list use , for seprate the item array not.\n",
    "print(a)"
   ]
  },
  {
   "cell_type": "code",
   "execution_count": 3,
   "id": "e06bf12e-1394-4c74-b0b4-922c11461d27",
   "metadata": {},
   "outputs": [
    {
     "name": "stdout",
     "output_type": "stream",
     "text": [
      "[[ 7  9  9  2]\n",
      " [16 19 11  6]]\n"
     ]
    }
   ],
   "source": [
    "import numpy as np\n",
    "b=np.array([(7,9,9,2),(16,19,11,6)])\n",
    "print(b)"
   ]
  },
  {
   "cell_type": "markdown",
   "id": "c5e3afbb-2627-41bf-b9f2-c531b00ecfde",
   "metadata": {},
   "source": [
    "# Range of values in array"
   ]
  },
  {
   "cell_type": "code",
   "execution_count": 7,
   "id": "129cb93a-0b39-4b61-b46e-b27c3a7d182b",
   "metadata": {},
   "outputs": [
    {
     "name": "stdout",
     "output_type": "stream",
     "text": [
      "[0 1 2 3 4 5 6 7 8 9]\n",
      "[1.  1.8 2.6 3.4 4.2 5. ]\n"
     ]
    }
   ],
   "source": [
    "c=np.arange(10) #range of value in array\n",
    "d=np.linspace(1,5,6) #set of values by interval\n",
    "print(c)\n",
    "print(d)"
   ]
  },
  {
   "cell_type": "markdown",
   "id": "22a39cc4-e792-427d-a795-36a9f6660419",
   "metadata": {},
   "source": [
    "# properties of array"
   ]
  },
  {
   "cell_type": "code",
   "execution_count": 13,
   "id": "5e93b86d-732c-40ff-bce8-673a4df4bb88",
   "metadata": {},
   "outputs": [
    {
     "name": "stdout",
     "output_type": "stream",
     "text": [
      "1\n",
      "4\n",
      "int32\n",
      "16\n",
      "4\n",
      "(2, 4)\n"
     ]
    }
   ],
   "source": [
    "a= np.array([7,9,9,2])\n",
    "b= np.array([(7,9,9,2),(16,11,9,6)])\n",
    "print(a.ndim )#dimensions of array\n",
    "print(a.itemsize) #byte size of each element\n",
    "print(a.dtype) #datatype of array\n",
    "print(a.size*a.itemsize) # memory occupied- spae occupied by 1\n",
    "print(a.size) # number of element in array\n",
    "print(b.shape) #shape of array (rows and columns)"
   ]
  },
  {
   "cell_type": "markdown",
   "id": "7d7d95e6-a56f-44bb-a966-10dca5a975fe",
   "metadata": {},
   "source": [
    "# Reshaping the array"
   ]
  },
  {
   "cell_type": "code",
   "execution_count": 16,
   "id": "65b067bb-14ec-4590-9594-dfcfc706080b",
   "metadata": {},
   "outputs": [
    {
     "name": "stdout",
     "output_type": "stream",
     "text": [
      "[[ 7  9  9  2]\n",
      " [16 11  9  6]]\n",
      "[[ 7  9]\n",
      " [ 9  2]\n",
      " [16 11]\n",
      " [ 9  6]]\n"
     ]
    }
   ],
   "source": [
    "b=np.array ([(7,9,9,2),(16,11,9,6)])\n",
    "print(b)\n",
    "b=b.reshape(4,2) #(4,3) show error so the value of rows and column should be same \n",
    "print(b)"
   ]
  },
  {
   "cell_type": "code",
   "execution_count": 21,
   "id": "fd44da00-a4bd-4fd5-962b-d44bc1b776d8",
   "metadata": {},
   "outputs": [
    {
     "name": "stdout",
     "output_type": "stream",
     "text": [
      "9\n",
      "[9 9]\n"
     ]
    }
   ],
   "source": [
    "b=np.array([(7,9,9,2),(16,11,9,6)])\n",
    "print(b[0,2]) #slicing the element from certain row and certain column\n",
    "print(b[0:,2]) # slicing element fron all rows and certain column here 0: means all rows and 2 column"
   ]
  },
  {
   "cell_type": "code",
   "execution_count": 26,
   "id": "9677b4d1-1c2d-48a0-a633-baac53118d06",
   "metadata": {},
   "outputs": [
    {
     "name": "stdout",
     "output_type": "stream",
     "text": [
      "2\n",
      "11\n",
      "59\n"
     ]
    }
   ],
   "source": [
    "e=np.array ([(7,9,9,2,6,11,9,6)])\n",
    "print(e.min()) # return minimum value from array\n",
    "print(e.max()) # return maximum value from array\n",
    "print(e.sum()) # return sum of array"
   ]
  },
  {
   "cell_type": "code",
   "execution_count": 28,
   "id": "2c45aae8-0bfe-4a53-ba7b-0c454c5f5d10",
   "metadata": {},
   "outputs": [
    {
     "name": "stdout",
     "output_type": "stream",
     "text": [
      "[23 20 18  8]\n",
      "[27 42]\n",
      "[2.64575131 3.         3.         1.41421356]\n",
      "2.8613807855648994\n",
      "[1.09663316e+03 8.10308393e+03 8.10308393e+03 7.38905610e+00]\n",
      "[1.94591015 2.19722458 2.19722458 0.69314718]\n",
      "[0.84509804 0.95424251 0.95424251 0.30103   ]\n"
     ]
    }
   ],
   "source": [
    "a=np.array([7,9,9,2])\n",
    "b=np.array([(7,9,9,2),(16,11,9,6)])\n",
    "\n",
    "print(b.sum(axis=0)) #each element of 1st dim array with same index with another dim element\n",
    "print(b.sum(axis=1)) # sum of all element is 1st dim & sum of all element in 2nd dim\n",
    "print(np.sqrt(a)) # squareroot of array element\n",
    "print(np.std(a)) #standard deviation of array\n",
    "print(np.exp(a)) #exponational of array\n",
    "print(np.log(a)) #natural log-ln\n",
    "print(np.log10(a)) #log based 10\n"
   ]
  },
  {
   "cell_type": "code",
   "execution_count": 36,
   "id": "bcf8da77-e82d-4378-b69d-c887e93dc246",
   "metadata": {},
   "outputs": [
    {
     "name": "stdout",
     "output_type": "stream",
     "text": [
      "[[ 7  9  9  2]\n",
      " [16 11  9  6]\n",
      " [ 1  2  3  4]\n",
      " [ 5  6  7  8]]\n",
      "--------\n",
      "[[ 7  9  9  2  1  2  3  4]\n",
      " [16 11  9  6  5  6  7  8]]\n",
      "--------\n",
      "[ 7  9  9  2 16 11  9  6]\n"
     ]
    }
   ],
   "source": [
    "b=np.array([(7,9,9,2),(16,11,9,6)])\n",
    "f=np.array([(1,2,3,4),(5,6,7,8)])\n",
    "print(np.vstack((b,f))) # vertical stack\n",
    "print(\"--------\")\n",
    "print(np.hstack((b,f))) #horizontal stack\n",
    "print(\"--------\")\n",
    "print(b.ravel()) #merging as single"
   ]
  },
  {
   "cell_type": "markdown",
   "id": "b26b2b6b-3c36-4440-a34e-c88f8564cfe5",
   "metadata": {},
   "source": [
    "# Three Dimension Array"
   ]
  },
  {
   "cell_type": "code",
   "execution_count": 38,
   "id": "711cea18-ddfb-4c38-92dd-05d8e8e4fa0a",
   "metadata": {},
   "outputs": [
    {
     "name": "stdout",
     "output_type": "stream",
     "text": [
      "[[[ 1  2  3]\n",
      "  [ 4  5  6]]\n",
      "\n",
      " [[-1 -2 -3]\n",
      "  [-4 -5 -6]]]\n"
     ]
    }
   ],
   "source": [
    "threeDArray=np.array([\n",
    "    [[1,2,3],[4,5,6]],\n",
    "    [[-1,-2,-3],[-4,-5,-6]]\n",
    "])\n",
    "print(threeDArray)"
   ]
  },
  {
   "cell_type": "code",
   "execution_count": 43,
   "id": "1e3bf08e-a72d-4439-b587-4f4b6909f2c6",
   "metadata": {},
   "outputs": [
    {
     "name": "stdout",
     "output_type": "stream",
     "text": [
      "4\n",
      "4\n"
     ]
    }
   ],
   "source": [
    "print(threeDArray[0][1][0])\n",
    "print(threeDArray[0,1,0])"
   ]
  },
  {
   "cell_type": "code",
   "execution_count": 47,
   "id": "2c7867de-0635-4674-a65e-76e01fc22feb",
   "metadata": {},
   "outputs": [
    {
     "name": "stdout",
     "output_type": "stream",
     "text": [
      "(2, 2, 3)\n",
      "(2, 4)\n"
     ]
    }
   ],
   "source": [
    "print(threeDArray.shape) #3d array\n",
    "print(b.shape) #2d array \n",
    "print(a.shape) #1d array"
   ]
  },
  {
   "cell_type": "code",
   "execution_count": 49,
   "id": "ac361dba-1374-4e54-811c-8be9ceb08fa2",
   "metadata": {},
   "outputs": [
    {
     "name": "stdout",
     "output_type": "stream",
     "text": [
      "12\n",
      "8\n",
      "4\n"
     ]
    }
   ],
   "source": [
    "print(threeDArray.size)\n",
    "print(b.size)\n",
    "print(a.size)"
   ]
  },
  {
   "cell_type": "code",
   "execution_count": 51,
   "id": "45dbaa6c-ce98-41e9-8988-e828d0825cff",
   "metadata": {},
   "outputs": [
    {
     "name": "stdout",
     "output_type": "stream",
     "text": [
      "4\n",
      "4\n",
      "4\n"
     ]
    }
   ],
   "source": [
    "print(threeDArray.itemsize)\n",
    "print(b.itemsize)\n",
    "print(a.itemsize)"
   ]
  },
  {
   "cell_type": "markdown",
   "id": "c87c9ed5-7dd7-4b1c-ad1c-9efc0eb4de56",
   "metadata": {},
   "source": [
    "# converting to the single dimension array "
   ]
  },
  {
   "cell_type": "code",
   "execution_count": 57,
   "id": "54a5e5e7-c0ba-4ce7-ac38-b109646e7434",
   "metadata": {},
   "outputs": [
    {
     "name": "stdout",
     "output_type": "stream",
     "text": [
      "1\n",
      "2\n",
      "3\n",
      "4\n",
      "5\n",
      "6\n",
      "-1\n",
      "-2\n",
      "-3\n",
      "-4\n",
      "-5\n",
      "-6\n",
      "-----------------------\n",
      "[ 1  2  3  4  5  6 -1 -2 -3 -4 -5 -6]\n"
     ]
    }
   ],
   "source": [
    "for i in threeDArray.flatten(): #  to covert any dimension to single dimension it return element in verical form \n",
    "    print(i)\n",
    "print(\"-----------------------\")\n",
    "print(threeDArray.ravel()) # to covert any dimension to single dimension it return element in horizontal form "
   ]
  },
  {
   "cell_type": "markdown",
   "id": "074e771d-f9fa-4e64-93af-f45ef3195e32",
   "metadata": {},
   "source": [
    "# Filling array with specific values"
   ]
  },
  {
   "cell_type": "code",
   "execution_count": 65,
   "id": "ff52a4e4-9ef1-4aba-9014-3711e954c0b7",
   "metadata": {},
   "outputs": [
    {
     "name": "stdout",
     "output_type": "stream",
     "text": [
      "[0. 0. 0. 0. 0.]\n"
     ]
    }
   ],
   "source": [
    "#zeros\n",
    "zeros=np.zeros(5) # create array with zero values \n",
    "print(zeros)"
   ]
  },
  {
   "cell_type": "code",
   "execution_count": 67,
   "id": "e9a3b4ba-e3f3-49fa-acf4-05030b47a954",
   "metadata": {},
   "outputs": [
    {
     "name": "stdout",
     "output_type": "stream",
     "text": [
      "[1. 1. 1. 1. 1. 1. 1. 1.]\n"
     ]
    }
   ],
   "source": [
    "# ones\n",
    "ones=np.ones(8) # create array with one values\n",
    "print(ones)"
   ]
  },
  {
   "cell_type": "code",
   "execution_count": 69,
   "id": "954d6fd6-28ab-4c18-97c7-3ebaa5c71c3f",
   "metadata": {},
   "outputs": [
    {
     "name": "stdout",
     "output_type": "stream",
     "text": [
      "[1 1 1 1 1 1 1 1]\n"
     ]
    }
   ],
   "source": [
    "ones=ones.astype(int) # type casting from float to int using astype\n",
    "print(ones)"
   ]
  },
  {
   "cell_type": "code",
   "execution_count": 71,
   "id": "f56d053f-0ed4-4bd2-b7cf-ca3c08c94f70",
   "metadata": {},
   "outputs": [
    {
     "name": "stdout",
     "output_type": "stream",
     "text": [
      "[5.6 6.6 7.6 8.6 9.6]\n"
     ]
    }
   ],
   "source": [
    "# ranfe\n",
    "ranges=np.arange(5.6,9.8)\n",
    "print(ranges)"
   ]
  },
  {
   "cell_type": "code",
   "execution_count": 73,
   "id": "bc43ca30-dc64-455e-a6ac-97a55ea59964",
   "metadata": {},
   "outputs": [
    {
     "name": "stdout",
     "output_type": "stream",
     "text": [
      "[3.         3.33333333 3.66666667 4.         4.33333333 4.66666667\n",
      " 5.         5.33333333 5.66666667 6.        ]\n"
     ]
    }
   ],
   "source": [
    "#linspace\n",
    "linspace=np.linspace(3,6,10)\n",
    "print(linspace)"
   ]
  },
  {
   "cell_type": "code",
   "execution_count": null,
   "id": "3e582584-5cce-4dd3-b44b-5ef0aedc3c04",
   "metadata": {},
   "outputs": [],
   "source": [
    "#help(linspace)"
   ]
  },
  {
   "cell_type": "markdown",
   "id": "90435843-dd1f-4d56-83c5-3335c5b0afee",
   "metadata": {},
   "source": [
    "# scalar operation"
   ]
  },
  {
   "cell_type": "code",
   "execution_count": 75,
   "id": "2dbd099f-45b0-4e5d-903f-0e3396393699",
   "metadata": {},
   "outputs": [
    {
     "name": "stdout",
     "output_type": "stream",
     "text": [
      "[[76 34 89]\n",
      " [23 34 45]]\n"
     ]
    }
   ],
   "source": [
    "matrix=np.array([[76,34,89],[23,34,45]])\n",
    "print(matrix)"
   ]
  },
  {
   "cell_type": "code",
   "execution_count": 77,
   "id": "3d462e81-b1ef-4eab-8072-126fd77084c3",
   "metadata": {},
   "outputs": [
    {
     "name": "stdout",
     "output_type": "stream",
     "text": [
      "[[78 36 91]\n",
      " [25 36 47]]\n"
     ]
    }
   ],
   "source": [
    "print(matrix + 2) # add  2 "
   ]
  },
  {
   "cell_type": "code",
   "execution_count": 80,
   "id": "d410be9a-30ca-4b08-b88c-1fc8aa7bef8a",
   "metadata": {},
   "outputs": [
    {
     "name": "stdout",
     "output_type": "stream",
     "text": [
      "[[76, 34, 89], [23, 34, 45], [76, 34, 89], [23, 34, 45]]\n"
     ]
    }
   ],
   "source": [
    "python=[[76,34,89],[23,34,45]]\n",
    "print(python*2) # it simply copying"
   ]
  },
  {
   "cell_type": "code",
   "execution_count": 92,
   "id": "67657338-22fd-4f79-96dc-c54dfa7349d6",
   "metadata": {},
   "outputs": [
    {
     "name": "stdout",
     "output_type": "stream",
     "text": [
      "[[76 23]\n",
      " [34 34]\n",
      " [89 45]]\n"
     ]
    }
   ],
   "source": [
    "print(matrix.T)"
   ]
  },
  {
   "cell_type": "code",
   "execution_count": 86,
   "id": "6696637a-20c1-403b-a2e1-c4e8cbf8666e",
   "metadata": {},
   "outputs": [
    {
     "name": "stdout",
     "output_type": "stream",
     "text": [
      "[23 34 45]\n"
     ]
    }
   ],
   "source": [
    "print(matrix[1,]) # return first ro"
   ]
  },
  {
   "cell_type": "code",
   "execution_count": 90,
   "id": "67e1eac9-9b54-40f5-93e1-2c182f999c37",
   "metadata": {},
   "outputs": [
    {
     "name": "stdout",
     "output_type": "stream",
     "text": [
      "1-dimension\n",
      "[5 5 5 5 5 5 5 5 5 5]\n",
      "2-dimension\n",
      "[[10 10]\n",
      " [10 10]]\n",
      "3-dimension\n",
      "[[[5 5 5 5]\n",
      "  [5 5 5 5]\n",
      "  [5 5 5 5]\n",
      "  [5 5 5 5]\n",
      "  [5 5 5 5]]\n",
      "\n",
      " [[5 5 5 5]\n",
      "  [5 5 5 5]\n",
      "  [5 5 5 5]\n",
      "  [5 5 5 5]\n",
      "  [5 5 5 5]]]\n"
     ]
    }
   ],
   "source": [
    "print(\"1-dimension\")\n",
    "full=np.full(10,5)\n",
    "print(full)\n",
    "\n",
    "print(\"2-dimension\")\n",
    "full=np.full((2,2),10)\n",
    "print(full)\n",
    "\n",
    "print(\"3-dimension\")\n",
    "full=np.full((2,5,4),5)\n",
    "print(full)\n"
   ]
  },
  {
   "cell_type": "markdown",
   "id": "27d0c80b-b9d7-4fc7-830a-417be39917d0",
   "metadata": {},
   "source": [
    "# element-wise operation"
   ]
  },
  {
   "cell_type": "code",
   "execution_count": 94,
   "id": "6ec83e3d-dc24-43f7-8063-ef6e58916331",
   "metadata": {},
   "outputs": [
    {
     "data": {
      "text/plain": [
       "[[76, 34, 89], [23, 34, 45], [76, 34, 89], [23, 34, 45]]"
      ]
     },
     "execution_count": 94,
     "metadata": {},
     "output_type": "execute_result"
    }
   ],
   "source": [
    "python1=[[76,34,89],[23,34,45]] # it will simply create new list and copy all values in it for this number of values should be same \n",
    "python2=[[76,34,89],[23,34,45]]\n",
    "python1 + python2"
   ]
  },
  {
   "cell_type": "code",
   "execution_count": 97,
   "id": "222b87f6-86ea-4186-affa-49c756ff7c53",
   "metadata": {},
   "outputs": [
    {
     "name": "stdout",
     "output_type": "stream",
     "text": [
      "[[ 75  81  87]\n",
      " [174 189 204]\n",
      " [471 513 555]]\n"
     ]
    }
   ],
   "source": [
    "matrix1=np.array([[1,2,3],[4,5,6],[13,14,15]]) #n*m  no of column and no of rows should be same\n",
    "matrix2=np.array([[7,8,9],[10,11,12],[16,17,18]])\n",
    "print(np.matmul(matrix1,matrix2))"
   ]
  },
  {
   "cell_type": "code",
   "execution_count": 104,
   "id": "3dd6bc64-c754-4680-a330-ad4e2ee38f3b",
   "metadata": {},
   "outputs": [
    {
     "name": "stdout",
     "output_type": "stream",
     "text": [
      "[[ 8 10 12]\n",
      " [14 16 18]\n",
      " [29 31 33]]\n"
     ]
    }
   ],
   "source": [
    "print(matrix1 + matrix2)"
   ]
  },
  {
   "cell_type": "code",
   "execution_count": 110,
   "id": "639c7c1a-5244-4f46-9996-b72151cee3df",
   "metadata": {},
   "outputs": [
    {
     "name": "stdout",
     "output_type": "stream",
     "text": [
      "[[  7  16  27]\n",
      " [ 40  55  72]\n",
      " [208 238 270]]\n"
     ]
    }
   ],
   "source": [
    "print(matrix1 * matrix2)"
   ]
  },
  {
   "cell_type": "code",
   "execution_count": 106,
   "id": "84538747-c816-4814-a3f3-d252ea571e2a",
   "metadata": {},
   "outputs": [
    {
     "name": "stdout",
     "output_type": "stream",
     "text": [
      "[[-6 -6 -6]\n",
      " [-6 -6 -6]\n",
      " [-3 -3 -3]]\n"
     ]
    }
   ],
   "source": [
    "print(matrix1 - matrix2)"
   ]
  },
  {
   "cell_type": "markdown",
   "id": "d763a654-45b2-41a9-83b8-068550b2b174",
   "metadata": {},
   "source": [
    "# statical function in numpy labrary"
   ]
  },
  {
   "cell_type": "code",
   "execution_count": 101,
   "id": "efedb4aa-1b97-4ccf-b989-307387edb7dd",
   "metadata": {},
   "outputs": [],
   "source": [
    "marks= np.array([\n",
    "    [87,90,89],[100,87,90],\n",
    "    [94,77,90],[100,86,98]\n",
    "])"
   ]
  },
  {
   "cell_type": "code",
   "execution_count": 118,
   "id": "5f55bbff-3d01-401d-aacc-185ed5f3e034",
   "metadata": {},
   "outputs": [
    {
     "name": "stdout",
     "output_type": "stream",
     "text": [
      "77\n",
      "100\n",
      "1088\n",
      "90.66666666666667\n",
      "6.315765107165473\n",
      "39.88888888888889 2\n"
     ]
    }
   ],
   "source": [
    "print(marks.min())\n",
    "print(marks.max())\n",
    "print(marks.sum())\n",
    "print(marks.mean())\n",
    "print(marks.std())\n",
    "print(marks.var(),2)\n"
   ]
  },
  {
   "cell_type": "code",
   "execution_count": 116,
   "id": "1f0651bc-5eba-45ef-b233-b06698aaf41c",
   "metadata": {},
   "outputs": [
    {
     "name": "stdout",
     "output_type": "stream",
     "text": [
      "[87 87 77 86]\n",
      "[ 90 100  94 100]\n",
      "[266 277 261 284]\n",
      "[88.66666667 92.33333333 87.         94.66666667]\n",
      "[1.24721913 5.55777733 7.25718035 6.18241233]\n"
     ]
    }
   ],
   "source": [
    "print(marks.min(axis=1)) # axis 1 means rowwise \n",
    "print(marks.max(axis=1)) # axis 0 means columnwise\n",
    "print(marks.sum(axis=1))\n",
    "print(marks.mean(axis=1))\n",
    "print(marks.std(axis=1))"
   ]
  },
  {
   "cell_type": "code",
   "execution_count": 122,
   "id": "3a7e3cc0-e600-4cb1-9a7a-51847f4d8e6d",
   "metadata": {},
   "outputs": [
    {
     "data": {
      "text/plain": [
       "array([0, 1, 2, 3, 4, 2, 3])"
      ]
     },
     "execution_count": 122,
     "metadata": {},
     "output_type": "execute_result"
    }
   ],
   "source": [
    " # append\n",
    "x=np.array([0,1,2,3,4,])\n",
    "y=np.array([6,7,8,9,10])\n",
    "z=np.array([11,12,13,14,15])\n",
    "\n",
    "np.append(x,(2,3)) # return a new array dont append in the existing array"
   ]
  },
  {
   "cell_type": "code",
   "execution_count": 124,
   "id": "f077a437-89c8-4ac2-a0d3-1a2bc276ba31",
   "metadata": {},
   "outputs": [
    {
     "data": {
      "text/plain": [
       "array([ 0,  1,  2,  3,  4,  6,  7,  8,  9, 10, 11, 12, 13, 14, 15])"
      ]
     },
     "execution_count": 124,
     "metadata": {},
     "output_type": "execute_result"
    }
   ],
   "source": [
    "np.hstack([x,y,z])"
   ]
  },
  {
   "cell_type": "code",
   "execution_count": 126,
   "id": "0dfe70c5-9f16-4e08-88f8-cb06137cc774",
   "metadata": {},
   "outputs": [
    {
     "data": {
      "text/plain": [
       "array([[ 0,  1,  2,  3,  4],\n",
       "       [ 6,  7,  8,  9, 10],\n",
       "       [11, 12, 13, 14, 15]])"
      ]
     },
     "execution_count": 126,
     "metadata": {},
     "output_type": "execute_result"
    }
   ],
   "source": [
    "np.vstack([x,y,z])\n"
   ]
  },
  {
   "cell_type": "code",
   "execution_count": 130,
   "id": "47b4f343-6f77-48e4-bf63-c527410f10ef",
   "metadata": {},
   "outputs": [
    {
     "name": "stdout",
     "output_type": "stream",
     "text": [
      "[[1 2 3]\n",
      " [4 5 6]\n",
      " [1 2 3]\n",
      " [1 2 3]]\n"
     ]
    }
   ],
   "source": [
    "new_array=np.array([1,2,3])\n",
    "x=np.append([[1,2,3],[4,5,6]],[[1,2,3],new_array],axis=0)\n",
    "print(x)"
   ]
  },
  {
   "cell_type": "code",
   "execution_count": 132,
   "id": "fe1e52da-b759-41a8-8d1e-0e09dfe61ab4",
   "metadata": {},
   "outputs": [
    {
     "data": {
      "text/plain": [
       "array([[1, 4, 1, 1],\n",
       "       [2, 5, 2, 2],\n",
       "       [3, 6, 3, 3]])"
      ]
     },
     "execution_count": 132,
     "metadata": {},
     "output_type": "execute_result"
    }
   ],
   "source": [
    "np.transpose(x) #x.T PERFORM THE SAME OPERATION"
   ]
  },
  {
   "cell_type": "code",
   "execution_count": null,
   "id": "e056ae03-d453-46d6-9d1d-47260ba50ebf",
   "metadata": {},
   "outputs": [],
   "source": [
    "# boolean indixing"
   ]
  },
  {
   "cell_type": "code",
   "execution_count": 136,
   "id": "92ac5bde-17d7-4dcf-9004-cd16beda5860",
   "metadata": {},
   "outputs": [
    {
     "name": "stdout",
     "output_type": "stream",
     "text": [
      "[0 1 2 3 4 5 6]\n"
     ]
    }
   ],
   "source": [
    "arr=np.arange(7)\n",
    "print(arr)"
   ]
  },
  {
   "cell_type": "code",
   "execution_count": 138,
   "id": "728f1411-61b9-4848-bddd-b94ac2411ba0",
   "metadata": {},
   "outputs": [
    {
     "data": {
      "text/plain": [
       "array([False, False, False, False, False,  True,  True])"
      ]
     },
     "execution_count": 138,
     "metadata": {},
     "output_type": "execute_result"
    }
   ],
   "source": [
    "arr>4"
   ]
  },
  {
   "cell_type": "code",
   "execution_count": 140,
   "id": "e76ae240-781d-49f2-9804-f841f161ed21",
   "metadata": {},
   "outputs": [
    {
     "data": {
      "text/plain": [
       "array([5, 6])"
      ]
     },
     "execution_count": 140,
     "metadata": {},
     "output_type": "execute_result"
    }
   ],
   "source": [
    "arr[arr>4]"
   ]
  },
  {
   "cell_type": "markdown",
   "id": "6cfcfe6c-90df-4ab2-9960-9e7ecf6a609b",
   "metadata": {},
   "source": [
    "# reshaping "
   ]
  },
  {
   "cell_type": "code",
   "execution_count": 142,
   "id": "9676a34e-da73-4b93-8417-b1fda23e1405",
   "metadata": {},
   "outputs": [],
   "source": [
    "array=np.arange(12)"
   ]
  },
  {
   "cell_type": "code",
   "execution_count": 144,
   "id": "e6a66668-19b3-4f0b-8b13-13c3f7f3141d",
   "metadata": {},
   "outputs": [],
   "source": [
    "array.shape=(3,4)"
   ]
  },
  {
   "cell_type": "code",
   "execution_count": 146,
   "id": "d4c6a199-e503-43c0-b506-fee2cc2dd355",
   "metadata": {},
   "outputs": [
    {
     "data": {
      "text/plain": [
       "array([[[ 0,  1],\n",
       "        [ 2,  3],\n",
       "        [ 4,  5]],\n",
       "\n",
       "       [[ 6,  7],\n",
       "        [ 8,  9],\n",
       "        [10, 11]]])"
      ]
     },
     "execution_count": 146,
     "metadata": {},
     "output_type": "execute_result"
    }
   ],
   "source": [
    "np.arange(12).reshape((2,3,2))"
   ]
  },
  {
   "cell_type": "markdown",
   "id": "1ac9d0d4-d762-441e-bef8-b6e84330cb11",
   "metadata": {},
   "source": [
    "# generating random value"
   ]
  },
  {
   "cell_type": "code",
   "execution_count": 150,
   "id": "4648ee00-b2cf-4b03-8a9d-3ba4fab15d4b",
   "metadata": {},
   "outputs": [
    {
     "data": {
      "text/plain": [
       "4"
      ]
     },
     "execution_count": 150,
     "metadata": {},
     "output_type": "execute_result"
    }
   ],
   "source": [
    "np.random.randint(5)"
   ]
  },
  {
   "cell_type": "code",
   "execution_count": 148,
   "id": "16ba6141-ca54-46dd-9c4f-29fa5142871e",
   "metadata": {},
   "outputs": [
    {
     "data": {
      "text/plain": [
       "array([[18, 19, 10, 15, 12],\n",
       "       [11, 15, 11, 16, 15],\n",
       "       [15, 19, 18, 13, 18],\n",
       "       [19, 18, 15, 10, 18],\n",
       "       [17, 10, 19, 14, 12]])"
      ]
     },
     "execution_count": 148,
     "metadata": {},
     "output_type": "execute_result"
    }
   ],
   "source": [
    "np.random.randint(10,20,(5,5))"
   ]
  },
  {
   "cell_type": "code",
   "execution_count": 169,
   "id": "7976d34a-1a6a-40df-a651-8230591b51ee",
   "metadata": {},
   "outputs": [
    {
     "data": {
      "text/plain": [
       "array(['u', 'e', 'e', 'a', 'u', 'o', 'a', 'a', 'i', 'e', 'e', 'u', 'i'],\n",
       "      dtype='<U1')"
      ]
     },
     "execution_count": 169,
     "metadata": {},
     "output_type": "execute_result"
    }
   ],
   "source": [
    "letters=list(\"aeiou\")\n",
    "np.random.choice(letters,13)"
   ]
  },
  {
   "cell_type": "code",
   "execution_count": 159,
   "id": "0a3fefa7-748a-4465-81f9-04a7fd0ac714",
   "metadata": {},
   "outputs": [
    {
     "data": {
      "text/plain": [
       "array(['a', 'n', 'h', 'r', 'a'], dtype='<U1')"
      ]
     },
     "execution_count": 159,
     "metadata": {},
     "output_type": "execute_result"
    }
   ],
   "source": [
    "np.random.choice(letters,5,replace=False)"
   ]
  },
  {
   "cell_type": "code",
   "execution_count": 171,
   "id": "b69c1a9d-fb64-4f43-beda-d25f2111d11e",
   "metadata": {},
   "outputs": [
    {
     "data": {
      "text/plain": [
       "array(['e', 'a', 'u', 'e', 'a', 'e', 'u', 'e', 'e', 'i', 'a', 'o', 'a',\n",
       "       'a', 'a'], dtype='<U1')"
      ]
     },
     "execution_count": 171,
     "metadata": {},
     "output_type": "execute_result"
    }
   ],
   "source": [
    "np.random.choice(letters,15,p=[0.4,0.3,0.1,0.1,0.1])"
   ]
  },
  {
   "cell_type": "markdown",
   "id": "d31dab6d-66c3-446e-b175-5dae5462be05",
   "metadata": {},
   "source": [
    "# save and load value"
   ]
  },
  {
   "cell_type": "code",
   "execution_count": 165,
   "id": "a0788693-6a3d-426c-9120-e6fcdd3f749d",
   "metadata": {},
   "outputs": [],
   "source": [
    "array=np.random.randint(10,20,(5,5))\n",
    "np.save(\"array_file\",array)"
   ]
  },
  {
   "cell_type": "code",
   "execution_count": 167,
   "id": "eeed8981-5761-475c-bc8b-9b14672a684a",
   "metadata": {},
   "outputs": [
    {
     "name": "stdout",
     "output_type": "stream",
     "text": [
      "[[19 18 10 16 13]\n",
      " [19 10 19 12 16]\n",
      " [17 19 11 11 14]\n",
      " [12 12 13 18 17]\n",
      " [12 16 17 10 10]]\n"
     ]
    }
   ],
   "source": [
    "array2=np.load(\"array_file.npy\")\n",
    "print(array2)"
   ]
  },
  {
   "cell_type": "code",
   "execution_count": null,
   "id": "78372e50-cf23-40af-bf50-452d8d0dbbbd",
   "metadata": {},
   "outputs": [],
   "source": []
  }
 ],
 "metadata": {
  "kernelspec": {
   "display_name": "Python [conda env:base] *",
   "language": "python",
   "name": "conda-base-py"
  },
  "language_info": {
   "codemirror_mode": {
    "name": "ipython",
    "version": 3
   },
   "file_extension": ".py",
   "mimetype": "text/x-python",
   "name": "python",
   "nbconvert_exporter": "python",
   "pygments_lexer": "ipython3",
   "version": "3.12.7"
  }
 },
 "nbformat": 4,
 "nbformat_minor": 5
}
