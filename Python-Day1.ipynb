{
 "cells": [
  {
   "cell_type": "markdown",
   "id": "69ee5e01-c708-441d-be2e-ae58ffd846a3",
   "metadata": {},
   "source": [
    "# python-Day 1"
   ]
  },
  {
   "cell_type": "code",
   "execution_count": 1,
   "id": "169de328-8fe2-43e0-ac3d-6ce6a27f7197",
   "metadata": {},
   "outputs": [
    {
     "name": "stdout",
     "output_type": "stream",
     "text": [
      "hello world\n"
     ]
    }
   ],
   "source": [
    "print(\"hello world\")"
   ]
  },
  {
   "cell_type": "code",
   "execution_count": 3,
   "id": "8ac2bb28-36fe-42c2-b122-61c0ecb5abdf",
   "metadata": {},
   "outputs": [
    {
     "data": {
      "text/plain": [
       "'hello , welcome to srm university'"
      ]
     },
     "execution_count": 3,
     "metadata": {},
     "output_type": "execute_result"
    }
   ],
   "source": [
    "'hello , welcome to srm university'"
   ]
  },
  {
   "cell_type": "code",
   "execution_count": 5,
   "id": "0fbfe69e-bc95-4d2a-a8ed-46af389c0aca",
   "metadata": {},
   "outputs": [
    {
     "name": "stdout",
     "output_type": "stream",
     "text": [
      "hello\n",
      "welcome to FDN on AI\n",
      "\n",
      "\n",
      "it give a new line space\n"
     ]
    }
   ],
   "source": [
    "print('hello')\n",
    "print('welcome to FDN on AI')\n",
    "print('\\n')\n",
    "print('it give a new line space')"
   ]
  },
  {
   "cell_type": "code",
   "execution_count": 7,
   "id": "73013a0c-ce86-448a-954f-5fcb1d9c690f",
   "metadata": {},
   "outputs": [
    {
     "data": {
      "text/plain": [
       "19"
      ]
     },
     "execution_count": 7,
     "metadata": {},
     "output_type": "execute_result"
    }
   ],
   "source": [
    "len(\"hello i am darshana\")"
   ]
  },
  {
   "cell_type": "code",
   "execution_count": 9,
   "id": "b78c4e0a-b078-417a-bab9-8098fa10aeed",
   "metadata": {},
   "outputs": [
    {
     "data": {
      "text/plain": [
       "8"
      ]
     },
     "execution_count": 9,
     "metadata": {},
     "output_type": "execute_result"
    }
   ],
   "source": [
    "var=\"darshana\"\n",
    "len(var)"
   ]
  },
  {
   "cell_type": "code",
   "execution_count": 11,
   "id": "c7725f34-435f-4538-bd70-c2cd984e9f49",
   "metadata": {},
   "outputs": [
    {
     "name": "stdout",
     "output_type": "stream",
     "text": [
      "d\n"
     ]
    }
   ],
   "source": [
    "print(var[0])"
   ]
  },
  {
   "cell_type": "code",
   "execution_count": 37,
   "id": "cb405b83-b023-4124-8684-1fcc01314ddb",
   "metadata": {},
   "outputs": [
    {
     "name": "stdout",
     "output_type": "stream",
     "text": [
      "d\n",
      "a\n",
      "r\n",
      "s\n",
      "h\n",
      "a\n",
      "n\n",
      "a\n"
     ]
    }
   ],
   "source": [
    "for i in range(len(var)):\n",
    " print(var[i])"
   ]
  },
  {
   "cell_type": "code",
   "execution_count": 17,
   "id": "2a0435b5-ef36-4307-9e1c-9471d765eb4b",
   "metadata": {},
   "outputs": [
    {
     "data": {
      "text/plain": [
       "'arshana bhasme'"
      ]
     },
     "execution_count": 17,
     "metadata": {},
     "output_type": "execute_result"
    }
   ],
   "source": [
    "str=\"darshana bhasme\"\n",
    "str[1:]"
   ]
  },
  {
   "cell_type": "code",
   "execution_count": 21,
   "id": "b1fed1d3-f8bf-486e-923e-704c069f1fba",
   "metadata": {},
   "outputs": [
    {
     "data": {
      "text/plain": [
       "'rs'"
      ]
     },
     "execution_count": 21,
     "metadata": {},
     "output_type": "execute_result"
    }
   ],
   "source": [
    "str[:1]\n"
   ]
  },
  {
   "cell_type": "code",
   "execution_count": 23,
   "id": "83a812b2-7da2-4417-9769-e8e0e150f72f",
   "metadata": {},
   "outputs": [
    {
     "data": {
      "text/plain": [
       "'rs'"
      ]
     },
     "execution_count": 23,
     "metadata": {},
     "output_type": "execute_result"
    }
   ],
   "source": [
    "str[2:4]"
   ]
  },
  {
   "cell_type": "code",
   "execution_count": 29,
   "id": "5537bf41-f51c-4730-83db-5def99e39ab2",
   "metadata": {},
   "outputs": [
    {
     "data": {
      "text/plain": [
       "'darshana bhasme shitalnath'"
      ]
     },
     "execution_count": 29,
     "metadata": {},
     "output_type": "execute_result"
    }
   ],
   "source": [
    "str +' shitalnath'"
   ]
  },
  {
   "cell_type": "code",
   "execution_count": 33,
   "id": "b256ab57-4577-41fc-beb6-2dedc22c6e47",
   "metadata": {},
   "outputs": [
    {
     "data": {
      "text/plain": [
       "'DARSHANA BHASME'"
      ]
     },
     "execution_count": 33,
     "metadata": {},
     "output_type": "execute_result"
    }
   ],
   "source": [
    "str.upper()"
   ]
  },
  {
   "cell_type": "code",
   "execution_count": 39,
   "id": "a351255d-d826-4e19-b337-1bf229dab8db",
   "metadata": {},
   "outputs": [
    {
     "data": {
      "text/plain": [
       "'darshana bhasme'"
      ]
     },
     "execution_count": 39,
     "metadata": {},
     "output_type": "execute_result"
    }
   ],
   "source": [
    "str.lower() #for lowercase"
   ]
  },
  {
   "cell_type": "raw",
   "id": "9797aa07-6873-49ed-b483-3dd27b606a0f",
   "metadata": {},
   "source": [
    "str.split()"
   ]
  },
  {
   "cell_type": "code",
   "execution_count": 41,
   "id": "f1c774fb-06ab-4e81-ac93-1c77024f89e6",
   "metadata": {},
   "outputs": [
    {
     "data": {
      "text/plain": [
       "['darshana', 'bhasme']"
      ]
     },
     "execution_count": 41,
     "metadata": {},
     "output_type": "execute_result"
    }
   ],
   "source": [
    "str.split()"
   ]
  },
  {
   "cell_type": "code",
   "execution_count": 43,
   "id": "066dfa77-8986-4dd9-b458-bcebe98006c2",
   "metadata": {},
   "outputs": [
    {
     "name": "stdout",
     "output_type": "stream",
     "text": [
      "enter name here darshana then also bhasme\n"
     ]
    }
   ],
   "source": [
    "print(\"enter name here {} then also {}\" .format(\"darshana\",\"bhasme\")) #replace the word where you use {} braces"
   ]
  },
  {
   "cell_type": "code",
   "execution_count": 47,
   "id": "770eb9f9-8da1-47fe-8029-faa705896e2d",
   "metadata": {},
   "outputs": [
    {
     "name": "stdout",
     "output_type": "stream",
     "text": [
      " the colours are black brown red.\n"
     ]
    }
   ],
   "source": [
    "print (\" the colours are {2} {1} {0}.\" .format(\"red\", \"brown\", \"black\"))"
   ]
  },
  {
   "cell_type": "code",
   "execution_count": 51,
   "id": "c376d835-f530-4b3f-a44a-fd749ceaaf1e",
   "metadata": {},
   "outputs": [
    {
     "name": "stdout",
     "output_type": "stream",
     "text": [
      "first object : 1, second object: two, third object: 30.2\n"
     ]
    }
   ],
   "source": [
    "print('first object : {a}, second object: {b}, third object: {c}' .format(a=1,b='two',c=30.2))"
   ]
  },
  {
   "cell_type": "code",
   "execution_count": 53,
   "id": "c3dfa33c-1824-4315-bb6c-e815901f884c",
   "metadata": {},
   "outputs": [
    {
     "data": {
      "text/plain": [
       "[1, 2, 3, 4, 5, 6]"
      ]
     },
     "execution_count": 53,
     "metadata": {},
     "output_type": "execute_result"
    }
   ],
   "source": [
    "my_list=[1,2,3,4,5,6]\n",
    "my_list"
   ]
  },
  {
   "cell_type": "code",
   "execution_count": 65,
   "id": "7ba7cc89-5e68-4167-9ae2-6faf6239c05a",
   "metadata": {},
   "outputs": [
    {
     "name": "stdout",
     "output_type": "stream",
     "text": [
      "['darshana', 20.3, 30]\n"
     ]
    }
   ],
   "source": [
    "my_list1=['darshana',20.3,30]\n",
    "print(my_list1)"
   ]
  },
  {
   "cell_type": "code",
   "execution_count": 67,
   "id": "a12d3743-fcbf-45f4-9aa7-f7fdf56ade52",
   "metadata": {},
   "outputs": [
    {
     "name": "stdout",
     "output_type": "stream",
     "text": [
      "6\n"
     ]
    }
   ],
   "source": [
    "print(len(my_list))"
   ]
  },
  {
   "cell_type": "code",
   "execution_count": 69,
   "id": "c024aeaf-1349-4947-a863-10641a5a5fe7",
   "metadata": {},
   "outputs": [
    {
     "name": "stdout",
     "output_type": "stream",
     "text": [
      "[1, 2, 3, 4, 5, 6, 20]\n"
     ]
    }
   ],
   "source": [
    "my_list.append(20)\n",
    "print(my_list)"
   ]
  },
  {
   "cell_type": "code",
   "execution_count": 71,
   "id": "53298fdc-2565-4a69-817f-7c1e524630ea",
   "metadata": {},
   "outputs": [],
   "source": [
    "my_list1.clear()"
   ]
  },
  {
   "cell_type": "code",
   "execution_count": 73,
   "id": "f5f57e11-faae-4ec4-8fad-91ab56d7e0d9",
   "metadata": {},
   "outputs": [
    {
     "name": "stdout",
     "output_type": "stream",
     "text": [
      "[]\n"
     ]
    }
   ],
   "source": [
    "print(my_list1)"
   ]
  },
  {
   "cell_type": "code",
   "execution_count": 75,
   "id": "e586b5e9-6412-4e30-b362-19ce6fd16243",
   "metadata": {},
   "outputs": [
    {
     "name": "stdout",
     "output_type": "stream",
     "text": [
      "[1, 2, 3, 4, 5, 6, 20]\n"
     ]
    }
   ],
   "source": [
    "print(my_list)"
   ]
  },
  {
   "cell_type": "code",
   "execution_count": 77,
   "id": "d3f0df92-2b90-4e64-a089-a2c76f19c3b1",
   "metadata": {},
   "outputs": [
    {
     "data": {
      "text/plain": [
       "3"
      ]
     },
     "execution_count": 77,
     "metadata": {},
     "output_type": "execute_result"
    }
   ],
   "source": [
    "my_list[2]"
   ]
  },
  {
   "cell_type": "code",
   "execution_count": 83,
   "id": "acc922ee-66a0-492a-b67c-d11de8c42047",
   "metadata": {},
   "outputs": [],
   "source": [
    "my_list[0]=10"
   ]
  },
  {
   "cell_type": "code",
   "execution_count": 85,
   "id": "e21144da-0a5e-42d6-ba47-d78bd5844411",
   "metadata": {},
   "outputs": [
    {
     "name": "stdout",
     "output_type": "stream",
     "text": [
      "10\n"
     ]
    }
   ],
   "source": [
    "print(my_list[0])"
   ]
  },
  {
   "cell_type": "code",
   "execution_count": 91,
   "id": "1eea968a-d09b-4a0e-ac6c-961669d33296",
   "metadata": {},
   "outputs": [
    {
     "data": {
      "text/plain": [
       "[10, 2, 3, 4, 5, 6, 20, 'darshana']"
      ]
     },
     "execution_count": 91,
     "metadata": {},
     "output_type": "execute_result"
    }
   ],
   "source": [
    "my_list + [\"darshana\"]"
   ]
  },
  {
   "cell_type": "code",
   "execution_count": 103,
   "id": "b6c00426-7665-432f-96e9-0da430d73c54",
   "metadata": {},
   "outputs": [
    {
     "data": {
      "text/plain": [
       "[10, 2, 3, 4, 5, 6, 20]"
      ]
     },
     "execution_count": 103,
     "metadata": {},
     "output_type": "execute_result"
    }
   ],
   "source": [
    "my_list"
   ]
  },
  {
   "cell_type": "code",
   "execution_count": 105,
   "id": "cebce806-5878-4f2c-8c57-5a0b4c9fc5f3",
   "metadata": {},
   "outputs": [
    {
     "data": {
      "text/plain": [
       "[10, 2, 3, 4, 5, 6, 20, 'darshana']"
      ]
     },
     "execution_count": 105,
     "metadata": {},
     "output_type": "execute_result"
    }
   ],
   "source": [
    "my_list=my_list + [\"darshana\"]\n",
    "my_list"
   ]
  },
  {
   "cell_type": "code",
   "execution_count": 99,
   "id": "ed7ab6dd-b1d8-4af0-951c-8480ec403527",
   "metadata": {},
   "outputs": [],
   "source": []
  },
  {
   "cell_type": "code",
   "execution_count": 107,
   "id": "184b47bb-048d-4f63-b254-c03e84a6180a",
   "metadata": {},
   "outputs": [
    {
     "name": "stdout",
     "output_type": "stream",
     "text": [
      "[10, 2, 3, 4, 5, 6, 20, 'darshana']\n"
     ]
    }
   ],
   "source": [
    "print(my_list)"
   ]
  },
  {
   "cell_type": "code",
   "execution_count": 109,
   "id": "91e74379-0d50-40f9-9177-feee50ceac2c",
   "metadata": {},
   "outputs": [
    {
     "data": {
      "text/plain": [
       "[2, 3, 4, 5, 6, 20, 'darshana']"
      ]
     },
     "execution_count": 109,
     "metadata": {},
     "output_type": "execute_result"
    }
   ],
   "source": [
    "my_list[1:]"
   ]
  },
  {
   "cell_type": "code",
   "execution_count": 111,
   "id": "7156fbca-a0ca-4000-bc19-68f2d25f729e",
   "metadata": {},
   "outputs": [
    {
     "data": {
      "text/plain": [
       "'darshana'"
      ]
     },
     "execution_count": 111,
     "metadata": {},
     "output_type": "execute_result"
    }
   ],
   "source": [
    "my_list.pop()"
   ]
  },
  {
   "cell_type": "code",
   "execution_count": 113,
   "id": "ed229e0c-7053-4909-9423-e9caee7f6aca",
   "metadata": {},
   "outputs": [
    {
     "name": "stdout",
     "output_type": "stream",
     "text": [
      "[10, 2, 3, 4, 5, 6, 20]\n"
     ]
    }
   ],
   "source": [
    "print(my_list)"
   ]
  },
  {
   "cell_type": "code",
   "execution_count": 117,
   "id": "777cddaf-c1c9-4559-a445-048b64e69629",
   "metadata": {},
   "outputs": [
    {
     "data": {
      "text/plain": [
       "10"
      ]
     },
     "execution_count": 117,
     "metadata": {},
     "output_type": "execute_result"
    }
   ],
   "source": [
    "my_list.pop(0)"
   ]
  },
  {
   "cell_type": "code",
   "execution_count": 119,
   "id": "7047fcf1-a6dd-47e4-85e1-51b5d8d3ffe5",
   "metadata": {},
   "outputs": [
    {
     "name": "stdout",
     "output_type": "stream",
     "text": [
      "{'key1': 'value1', 'key2': 'value2', 'key3': 'value3'}\n"
     ]
    }
   ],
   "source": [
    "dict={'key1':'value1','key2':'value2','key3':'value3'}\n",
    "print(dict)"
   ]
  },
  {
   "cell_type": "code",
   "execution_count": 121,
   "id": "9ab503f3-4ddc-46e0-9732-c971254408e1",
   "metadata": {},
   "outputs": [
    {
     "data": {
      "text/plain": [
       "'value2'"
      ]
     },
     "execution_count": 121,
     "metadata": {},
     "output_type": "execute_result"
    }
   ],
   "source": [
    "dict['key2']"
   ]
  },
  {
   "cell_type": "code",
   "execution_count": 127,
   "id": "441d0450-6a59-45ba-b40b-9d1c0861589f",
   "metadata": {},
   "outputs": [
    {
     "name": "stdout",
     "output_type": "stream",
     "text": [
      "{'key1': 123, 'key2': [1, 2, 3], 'key3': ['edu', 'waa']}\n"
     ]
    }
   ],
   "source": [
    "dict={'key1':123,'key2':[1,2,3],'key3':['edu','waa']}\n",
    "print(dict)"
   ]
  },
  {
   "cell_type": "code",
   "execution_count": 137,
   "id": "39320214-d737-47c8-885b-3df67d5d60e1",
   "metadata": {},
   "outputs": [
    {
     "name": "stdout",
     "output_type": "stream",
     "text": [
      "2\n"
     ]
    }
   ],
   "source": [
    "print(dict['key2'][1])"
   ]
  },
  {
   "cell_type": "code",
   "execution_count": 139,
   "id": "d95f4337-95a1-49fa-8dd7-04add890bc78",
   "metadata": {},
   "outputs": [
    {
     "data": {
      "text/plain": [
       "'EDU'"
      ]
     },
     "execution_count": 139,
     "metadata": {},
     "output_type": "execute_result"
    }
   ],
   "source": [
    "dict['key3'][0].upper()"
   ]
  },
  {
   "cell_type": "code",
   "execution_count": 141,
   "id": "7680a3c5-1e87-4c9d-97a8-d81f3690654a",
   "metadata": {},
   "outputs": [],
   "source": [
    "dict['key1']=dict['key1']+456"
   ]
  },
  {
   "cell_type": "code",
   "execution_count": 143,
   "id": "ae9f176a-722d-4294-84ae-3583c07baf4b",
   "metadata": {},
   "outputs": [
    {
     "data": {
      "text/plain": [
       "{'key1': 579, 'key2': [1, 2, 3], 'key3': ['edu', 'waa']}"
      ]
     },
     "execution_count": 143,
     "metadata": {},
     "output_type": "execute_result"
    }
   ],
   "source": [
    "dict"
   ]
  },
  {
   "cell_type": "code",
   "execution_count": 147,
   "id": "caeb4e04-2ed8-4b51-8f1a-0b06e74bbdcd",
   "metadata": {},
   "outputs": [],
   "source": [
    "dict['key1']=dict['key1']+456"
   ]
  },
  {
   "cell_type": "code",
   "execution_count": 149,
   "id": "9af92de6-719b-4d16-b052-b885bfa04a95",
   "metadata": {},
   "outputs": [
    {
     "data": {
      "text/plain": [
       "(1, 2, 3, 4, 5, 'darshana', 'bhasme')"
      ]
     },
     "execution_count": 149,
     "metadata": {},
     "output_type": "execute_result"
    }
   ],
   "source": [
    "tuple=(1,2,3,4,5,'darshana','bhasme')\n",
    "tuple"
   ]
  },
  {
   "cell_type": "code",
   "execution_count": 151,
   "id": "d4b09929-17ba-428e-992b-75034cb559c0",
   "metadata": {},
   "outputs": [
    {
     "data": {
      "text/plain": [
       "'bhasme'"
      ]
     },
     "execution_count": 151,
     "metadata": {},
     "output_type": "execute_result"
    }
   ],
   "source": [
    "tuple[-1]"
   ]
  },
  {
   "cell_type": "code",
   "execution_count": 157,
   "id": "a25469ae-1117-4de3-acc6-4bc5a3243eff",
   "metadata": {},
   "outputs": [
    {
     "name": "stdout",
     "output_type": "stream",
     "text": [
      "7\n"
     ]
    }
   ],
   "source": [
    "print(len(tuple))"
   ]
  },
  {
   "cell_type": "code",
   "execution_count": 165,
   "id": "09987a98-d67c-4b34-846c-83ce5a50be7a",
   "metadata": {},
   "outputs": [
    {
     "data": {
      "text/plain": [
       "{1, 2, 3, 4, 5}"
      ]
     },
     "execution_count": 165,
     "metadata": {},
     "output_type": "execute_result"
    }
   ],
   "source": [
    "#set -- unorder  not allow duplicate value\n",
    "s1={1,2,3,4,5,5}\n",
    "s1"
   ]
  },
  {
   "cell_type": "code",
   "execution_count": 169,
   "id": "81f42f22-de03-4d9e-a9cc-5e3820f45813",
   "metadata": {},
   "outputs": [
    {
     "data": {
      "text/plain": [
       "set"
      ]
     },
     "execution_count": 169,
     "metadata": {},
     "output_type": "execute_result"
    }
   ],
   "source": [
    "type(s1)"
   ]
  },
  {
   "cell_type": "code",
   "execution_count": 175,
   "id": "d8d6463d-ed63-4196-ba42-dd102ddbb622",
   "metadata": {},
   "outputs": [],
   "source": [
    "set=set()"
   ]
  },
  {
   "cell_type": "code",
   "execution_count": 179,
   "id": "27384814-9e1d-4a73-a5ac-a7ffe4924a5c",
   "metadata": {},
   "outputs": [],
   "source": [
    "set.add(2)"
   ]
  },
  {
   "cell_type": "code",
   "execution_count": 183,
   "id": "02a4aaf9-98cb-42e6-899a-089cb0267a0e",
   "metadata": {},
   "outputs": [],
   "source": [
    "set.add(3)\n",
    "set.add(4)\n",
    "set.add(5)\n",
    "set.add(6)\n",
    "set.add(7)"
   ]
  },
  {
   "cell_type": "code",
   "execution_count": 187,
   "id": "681e9a07-c9b2-4598-96aa-0496a9254711",
   "metadata": {},
   "outputs": [
    {
     "name": "stdout",
     "output_type": "stream",
     "text": [
      "it was true\n"
     ]
    }
   ],
   "source": [
    "if True:\n",
    "    print(\"it was true\")"
   ]
  },
  {
   "cell_type": "code",
   "execution_count": 193,
   "id": "d38589df-7bc4-406e-b411-8501ed2240dc",
   "metadata": {},
   "outputs": [
    {
     "name": "stdout",
     "output_type": "stream",
     "text": [
      "i will pretend in any case where x is not true\n"
     ]
    }
   ],
   "source": [
    "x=False\n",
    "if x:\n",
    "    print('yes it was true')\n",
    "else:\n",
    "    print('i will pretend in any case where {} is not true'.format('x'))"
   ]
  },
  {
   "cell_type": "code",
   "execution_count": 4,
   "id": "5f03ed60-baca-4af1-8b5e-efb1b1ae4372",
   "metadata": {},
   "outputs": [
    {
     "name": "stdout",
     "output_type": "stream",
     "text": [
      "welcome to andhre pradesh\n"
     ]
    }
   ],
   "source": [
    "loc= 'andhre pradesh'\n",
    "\n",
    "if loc =='banglore':\n",
    "    print('welcome to banglore')\n",
    "elif loc =='andhre pradesh':\n",
    "    print('welcome to andhre pradesh')\n",
    "else:\n",
    "    print('where you are')"
   ]
  },
  {
   "cell_type": "code",
   "execution_count": 13,
   "id": "d50d1c8f-b8cd-42ad-b98c-dddf42aff6ec",
   "metadata": {},
   "outputs": [
    {
     "name": "stdout",
     "output_type": "stream",
     "text": [
      "c is greater number\n"
     ]
    }
   ],
   "source": [
    "a=10\n",
    "b=20\n",
    "c=30\n",
    "if a>=b and a>=c:\n",
    "    print(\"a is greater\")\n",
    "elif b>=a and b>=c:\n",
    "    print(\"b is greater\")\n",
    "else:\n",
    "    print(\"c is greater number\")"
   ]
  },
  {
   "cell_type": "code",
   "execution_count": 27,
   "id": "d2ae2e48-0632-4b59-a12e-e15c3ced6abc",
   "metadata": {},
   "outputs": [
    {
     "name": "stdin",
     "output_type": "stream",
     "text": [
      "enter the units: 300\n"
     ]
    },
    {
     "name": "stdout",
     "output_type": "stream",
     "text": [
      "2400\n"
     ]
    }
   ],
   "source": [
    "# Electricity Bill Calculation\n",
    "\n",
    "def calculate_electricity_bill(units):\n",
    "    if units <= 200:\n",
    "        bill = 0\n",
    "    elif units <= 500:\n",
    "        bill = (units - 200) * 8\n",
    "    elif units <= 1000:\n",
    "        bill = (300 * 8) + (units - 500) * 11\n",
    "    else:\n",
    "        bill = (300 * 8) + (500 * 11) + (units - 1000) * 14\n",
    "    \n",
    "    return bill\n",
    "\n",
    "units = int(input(\"Enter the number of units consumed: \"))\n",
    "bill_amount = calculate_electricity_bill(units)\n",
    "\n",
    "print(f\"Total electricity bill for {units} units: Rs. {bill_amount}\")"
   ]
  },
  {
   "cell_type": "code",
   "execution_count": 8,
   "id": "326d6c80-9214-4ce6-8df8-d12ac92501d0",
   "metadata": {},
   "outputs": [
    {
     "data": {
      "text/plain": [
       "19120000.0"
      ]
     },
     "execution_count": 8,
     "metadata": {},
     "output_type": "execute_result"
    }
   ],
   "source": [
    "def calculate_tax(salary, savings):\n",
    "    deductible_savings = min(savings, 200000)\n",
    "    taxable_salary = salary - deductible_savings\n",
    "\n",
    "    if taxable_salary <= 1000000:\n",
    "        return taxable_salary * 0.10\n",
    "    elif taxable_salary <= 2200000:\n",
    "        return 100000 + (taxable_salary - 1000000) * 0.20\n",
    "    else:\n",
    "        return 340000 + (taxable_salary - 2200000) * 0.30\n",
    "\n",
    "calculate_tax(65000000,2000000)"
   ]
  },
  {
   "cell_type": "code",
   "execution_count": 29,
   "id": "b84c6826-beda-4a56-911c-21587b0cce93",
   "metadata": {},
   "outputs": [
    {
     "name": "stdout",
     "output_type": "stream",
     "text": [
      "2\n",
      "4\n",
      "6\n"
     ]
    }
   ],
   "source": [
    "list=[1,2,3,4,5,6]\n",
    "for i in list:\n",
    "    if i%2==0:\n",
    "        print(i)"
   ]
  },
  {
   "cell_type": "code",
   "execution_count": 37,
   "id": "ab655d67-7bf7-4151-aa57-ccd42c5747f9",
   "metadata": {},
   "outputs": [
    {
     "name": "stdin",
     "output_type": "stream",
     "text": [
      "enter number 3\n"
     ]
    },
    {
     "name": "stdout",
     "output_type": "stream",
     "text": [
      " a prime number\n"
     ]
    }
   ],
   "source": [
    "num=int(input(\"enter number\"))\n",
    "\n",
    "if num<2:\n",
    "        print(\"false\")\n",
    "else:\n",
    "    for i in range (2,num):\n",
    "        if num % 2==0:\n",
    "         print( \"not a prime number\")\n",
    "         break\n",
    "    else:\n",
    "       print(\" a prime number\")\n",
    "        \n"
   ]
  },
  {
   "cell_type": "code",
   "execution_count": 47,
   "id": "dede3c71-0dbe-494c-ac94-ddb8966cc68d",
   "metadata": {},
   "outputs": [
    {
     "name": "stdout",
     "output_type": "stream",
     "text": [
      "2\n",
      "3\n",
      "5\n",
      "7\n",
      "11\n",
      "13\n",
      "17\n",
      "19\n",
      "23\n",
      "29\n",
      "31\n",
      "37\n",
      "41\n",
      "43\n",
      "47\n"
     ]
    }
   ],
   "source": [
    "for num in range(2, 50):  \n",
    "    for i in range(2, num):  \n",
    "        if num % i == 0:  \n",
    "            break  \n",
    "    else:  \n",
    "        print(num)"
   ]
  },
  {
   "cell_type": "code",
   "execution_count": 63,
   "id": "0ce46205-206b-483e-85fa-bf7062112255",
   "metadata": {},
   "outputs": [
    {
     "name": "stdin",
     "output_type": "stream",
     "text": [
      "enter number 153\n"
     ]
    },
    {
     "name": "stdout",
     "output_type": "stream",
     "text": [
      "amstrong number 153\n"
     ]
    }
   ],
   "source": [
    "num=int(input(\"enter number\"))\n",
    "sumdigit=0\n",
    "digits=len(str(num))\n",
    "\n",
    "for digit in st(num):\n",
    "  sumdigit += int(digit)**digits\n",
    "if sumdigit==num:\n",
    "   print(\"amstrong number\",sumdigit)\n",
    "else:\n",
    "    print(\"not\")\n"
   ]
  },
  {
   "cell_type": "code",
   "execution_count": 81,
   "id": "dd1842fa-8aff-42f6-930a-6b984f879b92",
   "metadata": {},
   "outputs": [
    {
     "name": "stdout",
     "output_type": "stream",
     "text": [
      "ascinding [2, 6, 10, 15, 21, 22, 26, 30]\n",
      "descending [30, 26, 22, 21, 15, 10, 6, 2]\n"
     ]
    }
   ],
   "source": [
    "list=[30,2,21,6,10,22,15,26]\n",
    "list.sort()\n",
    "print(\"ascinding\",list)\n",
    "\n",
    "list.sort(reverse=True)\n",
    "print(\"descending\",list)"
   ]
  },
  {
   "cell_type": "code",
   "execution_count": 87,
   "id": "2a9dd411-6d44-4d30-a5f8-f49261c32343",
   "metadata": {},
   "outputs": [
    {
     "name": "stdout",
     "output_type": "stream",
     "text": [
      "[2, 6, 10, 15, 21, 22, 26, 30]\n"
     ]
    }
   ],
   "source": [
    "num=[30,2,21,6,10,22,15,26]\n",
    "n=len(num)\n",
    "for i in range (n):\n",
    "  min_index=i\n",
    "  for j in range(i+1,n):\n",
    "    if num[j]<num[min_index]:\n",
    "     min_index=j\n",
    "  num[i],num[min_index]=num[min_index],num[i]\n",
    "print(num)\n",
    "  "
   ]
  },
  {
   "cell_type": "code",
   "execution_count": 89,
   "id": "047abaad-b0b9-449a-bb16-aca5eff6d809",
   "metadata": {},
   "outputs": [
    {
     "name": "stdout",
     "output_type": "stream",
     "text": [
      "[30, 26, 22, 21, 15, 10, 6, 2]\n"
     ]
    }
   ],
   "source": [
    "num=[30,2,21,6,10,22,15,26]\n",
    "n=len(num)\n",
    "for i in range (n):\n",
    "  min_index=i\n",
    "  for j in range(i+1,n):\n",
    "    if num[j]>num[min_index]:\n",
    "     min_index=j\n",
    "  num[i],num[min_index]=num[min_index],num[i]\n",
    "print(num)"
   ]
  },
  {
   "cell_type": "code",
   "execution_count": 99,
   "id": "63b4353e-239c-405b-8893-289822070cf2",
   "metadata": {},
   "outputs": [
    {
     "name": "stdout",
     "output_type": "stream",
     "text": [
      "arthsaraham,rupalos ,ygolonhcet fo etutitsni dnahclaw\n"
     ]
    }
   ],
   "source": [
    "str='walchand institute of technology, solapur,maharashtra' #\n",
    "rev_str=\"\"\n",
    "for char in str:\n",
    "    rev_str=char + rev_str\n",
    "print(rev_str)"
   ]
  },
  {
   "cell_type": "code",
   "execution_count": 105,
   "id": "c16081a1-a8cc-417d-8945-f329a227782a",
   "metadata": {},
   "outputs": [
    {
     "name": "stdout",
     "output_type": "stream",
     "text": [
      "wlhn nttt ftcnlg,slprmhrsta"
     ]
    }
   ],
   "source": [
    "str='walchand institute of technology, solapur,maharashtra'  #for printing char at even position\n",
    "for i in range (0,len(str),2):\n",
    "  print(str[i],end=\"\")"
   ]
  },
  {
   "cell_type": "code",
   "execution_count": 109,
   "id": "7705f389-2a71-4113-b39c-f19d5d1b6ddc",
   "metadata": {},
   "outputs": [
    {
     "name": "stdout",
     "output_type": "stream",
     "text": [
      "acadisiueo ehooy oau,aaahr"
     ]
    }
   ],
   "source": [
    "str='walchand institute of technology, solapur,maharashtra' #for printing char at odd position \n",
    "for i in range (1,len(str),2):\n",
    "  print(str[i],end=\"\")"
   ]
  },
  {
   "cell_type": "code",
   "execution_count": 9,
   "id": "9bf45ae4-6ea0-46a3-b1a7-95cb8601fc07",
   "metadata": {},
   "outputs": [
    {
     "name": "stdout",
     "output_type": "stream",
     "text": [
      "8\n"
     ]
    }
   ],
   "source": [
    "def length(n):\n",
    "    count = 0\n",
    "    for ch in n:\n",
    "        count += 1\n",
    "    print(count)\n",
    "\n",
    "str=\"walchand\"\n",
    "length(str)  \n"
   ]
  },
  {
   "cell_type": "code",
   "execution_count": 10,
   "id": "5761c977-84b2-463a-b650-75850262bff7",
   "metadata": {},
   "outputs": [
    {
     "name": "stdout",
     "output_type": "stream",
     "text": [
      "uppercase WALCHAND\n",
      "lowercase walchand\n"
     ]
    }
   ],
   "source": [
    "def upper(s):\n",
    "    result=\"\"\n",
    "    for char in s:\n",
    "        if 'a'<= char <='z':\n",
    "            result += chr(ord(char)-32)\n",
    "        else:\n",
    "            result += char\n",
    "    return result\n",
    "\n",
    "def lower(s):\n",
    "    result=\"\"\n",
    "    for char in s:\n",
    "        if 'A'<= char <='Z':\n",
    "            result += chr(ord(char)-32)\n",
    "        else:\n",
    "            result += char\n",
    "    return result\n",
    "\n",
    "str=\"walchand\"\n",
    "print(\"uppercase\",upper(str))\n",
    "print(\"lowercase\",lower(str))"
   ]
  },
  {
   "cell_type": "code",
   "execution_count": 12,
   "id": "1b7c53c9-96a0-4876-8711-82512cca236f",
   "metadata": {},
   "outputs": [
    {
     "name": "stdout",
     "output_type": "stream",
     "text": [
      "even numbers246810odd number\n"
     ]
    }
   ],
   "source": [
    "def even_number(list):\n",
    "    i=0\n",
    "    while i<len(list):\n",
    "        if list[i] % 2==0:\n",
    "            print(list[i],end=\"\")\n",
    "        i += 1\n",
    "    else:\n",
    "        print(\"odd number\")\n",
    "\n",
    "numbers=[1,2,3,4,5,6,7,8,9,10]\n",
    "print(\"even numbers\",end=\"\")\n",
    "even_number(numbers)\n",
    "        "
   ]
  },
  {
   "cell_type": "markdown",
   "id": "af9aae80-d213-4303-b52a-248f8e54c03a",
   "metadata": {},
   "source": [
    "# while else loop"
   ]
  },
  {
   "cell_type": "code",
   "execution_count": null,
   "id": "81cf926d-29e7-4403-b328-38ecc18ddb21",
   "metadata": {},
   "outputs": [],
   "source": [
    "def reverse_string(s):\n",
    "    i=len(s)-1\n",
    "    rev_str=\" \"\n",
    "    while i>=0:\n",
    "        rev_str= +=s[i]\n",
    "        i -= 1\n",
    "    return rev_str\n",
    "string='hello'\n",
    "print(\"reversed:\",reverse_string(string))"
   ]
  },
  {
   "cell_type": "code",
   "execution_count": null,
   "id": "9b1a1ae9-2c09-41c6-8295-670bc22412c1",
   "metadata": {},
   "outputs": [
    {
     "name": "stdin",
     "output_type": "stream",
     "text": [
      "enter the sentance hello word from python\n"
     ]
    }
   ],
   "source": [
    "sen= input(\"enter the sentance\")\n",
    "words=[]\n",
    "word=\" \"\n",
    "index=0\n",
    "length=len(sen)\n",
    "\n",
    "while index < length:\n",
    "    if sen[index] != \" \":\n",
    "        word += sen[index]\n",
    "    else:\n",
    "        if word:\n",
    "            words.append(word)\n",
    "            word=\" \"\n",
    "    index += 1\n",
    "\n",
    "if word:\n",
    "  words.append(word)\n",
    "print(words)"
   ]
  },
  {
   "cell_type": "code",
   "execution_count": null,
   "id": "39afcba8-7f63-4ffe-919a-3658c5e0d7f3",
   "metadata": {},
   "outputs": [],
   "source": []
  }
 ],
 "metadata": {
  "kernelspec": {
   "display_name": "Python [conda env:base] *",
   "language": "python",
   "name": "conda-base-py"
  },
  "language_info": {
   "codemirror_mode": {
    "name": "ipython",
    "version": 3
   },
   "file_extension": ".py",
   "mimetype": "text/x-python",
   "name": "python",
   "nbconvert_exporter": "python",
   "pygments_lexer": "ipython3",
   "version": "3.12.7"
  }
 },
 "nbformat": 4,
 "nbformat_minor": 5
}
