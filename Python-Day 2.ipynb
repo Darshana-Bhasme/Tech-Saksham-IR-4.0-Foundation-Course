{
 "cells": [
  {
   "cell_type": "markdown",
   "id": "c996857a-34bc-47a9-9b5e-6db436820bf1",
   "metadata": {},
   "source": [
    "# oop's concept"
   ]
  },
  {
   "cell_type": "markdown",
   "id": "e4986710-83ef-4e12-a126-5605a28ab9e6",
   "metadata": {},
   "source": [
    "# class and object"
   ]
  },
  {
   "cell_type": "code",
   "execution_count": 11,
   "id": "90d87a55-2584-43b7-b6a9-7e2af0dfe56b",
   "metadata": {},
   "outputs": [
    {
     "name": "stdout",
     "output_type": "stream",
     "text": [
      "toyoto 2016\n"
     ]
    }
   ],
   "source": [
    "class car:\n",
    "    def __init__(self,modelname,year):\n",
    "      self.modelname=modelname\n",
    "      self.year=year\n",
    "\n",
    "    def display(self):\n",
    "        print(self.modelname,self.year)\n",
    "\n",
    "c1=car(\"toyoto\",2016)\n",
    "c1.display()"
   ]
  },
  {
   "cell_type": "code",
   "execution_count": 17,
   "id": "a34ec03a-6dcb-419b-800d-bc2ebf4a9047",
   "metadata": {},
   "outputs": [
    {
     "name": "stdout",
     "output_type": "stream",
     "text": [
      "model name is toyoto\n",
      "model year is: 2018\n"
     ]
    }
   ],
   "source": [
    "class vehical:\n",
    "    def __init__(self,makemodel,modelyear):\n",
    "        self.makemodel=makemodel\n",
    "        self.modelyear=modelyear\n",
    "\n",
    "    def show(self):\n",
    "        print(\"model name is\",self.makemodel)\n",
    "        print(\"model year is:\",self.modelyear)\n",
    "\n",
    "c1=vehical(\"toyoto\",2018)\n",
    "c1.show()"
   ]
  },
  {
   "cell_type": "code",
   "execution_count": 19,
   "id": "620a0fee-5e0e-4fdf-ad1f-98d0b87270bb",
   "metadata": {},
   "outputs": [
    {
     "name": "stdout",
     "output_type": "stream",
     "text": [
      "The Great Gatsby\n",
      "1984\n",
      "The Great Gatsby\n"
     ]
    }
   ],
   "source": [
    "class Library:\n",
    "    def __init__(self):\n",
    "        self.books = []\n",
    "\n",
    "    def add_book(self, title):\n",
    "        self.books.append(title)\n",
    "\n",
    "    def remove_book(self, title):\n",
    "        if title in self.books:\n",
    "            self.books.remove(title)\n",
    "\n",
    "    def list_books(self):\n",
    "        print(\"\\n\".join(self.books) if self.books else \"Library is empty.\")\n",
    "\n",
    "# Example usage\n",
    "library = Library()\n",
    "library.add_book(\"The Great Gatsby\")\n",
    "library.add_book(\"1984\")\n",
    "library.list_books()\n",
    "library.remove_book(\"1984\")\n",
    "library.list_books()"
   ]
  },
  {
   "cell_type": "code",
   "execution_count": 29,
   "id": "47a25314-7728-466a-8305-c0424dac2bd2",
   "metadata": {},
   "outputs": [
    {
     "name": "stdout",
     "output_type": "stream",
     "text": [
      "My name is Rodger\n",
      "My name is Tommy\n"
     ]
    }
   ],
   "source": [
    "#Creating Classes and objects with methods\n",
    "class Dog:\n",
    "\n",
    "\t# class attribute\n",
    "\tattr1 = \"mammal\"\n",
    "\n",
    "\t# Instance attribute\n",
    "\tdef __init__(self, name):\n",
    "\t\tself.name = name\n",
    "\t\t\n",
    "\tdef speak(self):\n",
    "\t\tprint(\"My name is {}\".format(self.name))\n",
    "\n",
    "# Driver code\n",
    "# Object instantiation\n",
    "Rodger = Dog(\"Rodger\")\n",
    "Tommy = Dog(\"Tommy\")\n",
    "\n",
    "# Accessing class methods\n",
    "Rodger.speak()\n",
    "Tommy.speak()\n"
   ]
  },
  {
   "cell_type": "code",
   "execution_count": 47,
   "id": "74b8e38e-2108-4857-a5dd-a419dfe2adb7",
   "metadata": {},
   "outputs": [
    {
     "data": {
      "text/plain": [
       "[2, 4, 6]"
      ]
     },
     "execution_count": 47,
     "metadata": {},
     "output_type": "execute_result"
    }
   ],
   "source": [
    "def check_even_list(num_list):\n",
    "\n",
    "    even_numbers=[]\n",
    "\n",
    "    for number in num_list:\n",
    "        if number % 2==0:\n",
    "            even_numbers.append(number)\n",
    "\n",
    "        else:\n",
    "            pass\n",
    "    return even_numbers\n",
    "\n",
    "check_even_list([1,2,3,4,5,6])"
   ]
  },
  {
   "cell_type": "markdown",
   "id": "7fa1245a-3f78-418c-876a-ae7d77c383f1",
   "metadata": {},
   "source": [
    "# Inheritance"
   ]
  },
  {
   "cell_type": "code",
   "execution_count": 54,
   "id": "fbbded8e-de59-4906-aa3c-c28d1bc788e1",
   "metadata": {},
   "outputs": [
    {
     "name": "stdout",
     "output_type": "stream",
     "text": [
      "rahul\n",
      "886012\n",
      "my name is rahul\n",
      "idnumber: 886012\n",
      "post: intern\n",
      "salary 200000\n"
     ]
    }
   ],
   "source": [
    "class person(object):\n",
    "\n",
    "    def __init__(self,name,idnumber):\n",
    "        self.name=name\n",
    "        self.idnumber=idnumber\n",
    "\n",
    "    def display(self):\n",
    "        print(self.name)\n",
    "        print(self.idnumber)\n",
    "\n",
    "    def details(self):\n",
    "        print(\"my name is {}\".format(self.name))\n",
    "        print(\"idnumber {}\".format(self.idnumber))\n",
    "\n",
    "class Employee(person):\n",
    "    def __init__(self,name,idnumber,salary,post):\n",
    "        self.salary=salary\n",
    "        self.post=post\n",
    "\n",
    "        person.__init__(self,name,idnumber)\n",
    "\n",
    "    def details(self):\n",
    "         print(\"my name is {}\".format(self.name))\n",
    "         print(\"idnumber: {}\".format(self.idnumber))\n",
    "         print(\"post: {}\".format(self.post))\n",
    "         print(\"salary {}\".format(self.salary))\n",
    "\n",
    "a=Employee('rahul',886012,200000,\"intern\")\n",
    "a.display()\n",
    "a.details()"
   ]
  },
  {
   "cell_type": "code",
   "execution_count": 64,
   "id": "5fe59d84-fc11-4bdc-8d77-75afaa25e0dd",
   "metadata": {},
   "outputs": [
    {
     "name": "stdout",
     "output_type": "stream",
     "text": [
      "abc\n",
      "xyz\n",
      "18\n",
      "2366\n",
      "my mom name is abc\n",
      "my mom sirname is xyz\n",
      "my dad age is 18\n",
      "my dad salary is 2366\n",
      "my education is btech\n",
      "my dob is 23\n",
      "my grandchild_name is pqr\n",
      "my grand child age is 5\n"
     ]
    }
   ],
   "source": [
    "class dad(object):\n",
    "    def __init__(self,name,sirname):\n",
    "        self.name=name\n",
    "        self.sirname=sirname\n",
    "    def a(self):\n",
    "        print(self.name)\n",
    "        print(self.sirname)\n",
    "\n",
    "    def show(self):\n",
    "        print(\"my  mom name is \".format(self.name))\n",
    "        print(\"my mom sirname is \".format(self.sirname))\n",
    "\n",
    "class mom(object):\n",
    "    def __init__(self,age,salary):\n",
    "        self.age=age\n",
    "        self.salary=salary\n",
    "\n",
    "    def a1(self):\n",
    "        print(self.age)\n",
    "        print(self.salary)\n",
    "\n",
    "    def show1(self):\n",
    "        print(\"my dad name is \".format(self.age))\n",
    "        print(\"my dad sirname is\".format(self.salary))\n",
    "\n",
    "class child(dad,mom):\n",
    "    def __init__(self,name,sirname,age,salary,education,dob):\n",
    "        self.education=education\n",
    "        self.dob=dob\n",
    "\n",
    "        dad.__init__(self,name,sirname)\n",
    "        mom.__init__(self,age,salary)\n",
    "\n",
    "    def show2(self):\n",
    "        print(\"my mom name is {}\".format(self.name))\n",
    "        print(\"my mom sirname is {}\".format(self.sirname))\n",
    "        print(\"my dad age is {}\".format(self.age))\n",
    "        print(\"my dad salary is {}\".format(self.salary))\n",
    "\n",
    "    def info1(self):\n",
    "        print(\"my education is {}\".format(self.education))\n",
    "        print(\"my dob is {}\".format(self.dob))\n",
    "\n",
    "class grandchild(child):\n",
    "    def __init__(self,name,sirname,age,salary,education,dob,grandchild_name,grandchild_age):\n",
    "       self.grandchild_name=grandchild_name\n",
    "       self.grandchild_age=grandchild_age\n",
    "       dad.__init__(self,name,sirname)\n",
    "       mom.__init__(self,age,salary)\n",
    "       child.__init__(self,name,sirname,age,salary,education,dob)\n",
    "\n",
    "    def info2(self):\n",
    "         print(\"my mom name is {}\".format(self.name))\n",
    "         print(\"my mom sirname is {}\".format(self.sirname))\n",
    "         print(\"my dad age is {}\".format(self.age))\n",
    "         print(\"my dad salary is {}\".format(self.salary))\n",
    "         print(\"my education is {}\".format(self.education))\n",
    "         print(\"my dob is {}\".format(self.dob))\n",
    "         print(\"my grandchild_name is {}\".format(self.grandchild_name))\n",
    "         print(\"my grand child age is {}\".format(self.grandchild_age))\n",
    "\n",
    "a=grandchild('abc','xyz',18,2366,'btech',23,'pqr',5)\n",
    "a.a()\n",
    "a.a1()\n",
    "a.info2()\n",
    "\n",
    "        \n",
    "        "
   ]
  },
  {
   "cell_type": "code",
   "execution_count": 86,
   "id": "24ca285e-84e7-4ea3-b943-60b07d2dda26",
   "metadata": {},
   "outputs": [
    {
     "name": "stdout",
     "output_type": "stream",
     "text": [
      "delhi\n",
      "monday\n",
      "location is delhi\n",
      "location is monday\n",
      "team_leader ajay\n",
      "no_of_player 11\n"
     ]
    }
   ],
   "source": [
    "class play(object):\n",
    "  def __init__(self,location,day):\n",
    "    self.location=location\n",
    "    self.day=day\n",
    "\n",
    "  def details(self):\n",
    "      print(self.location)\n",
    "      print(self.day)\n",
    "\n",
    "  def display(self):\n",
    "      print(\"location is {}\".format(self.location))\n",
    "      print(\"location is {}\".format(self.day))\n",
    "\n",
    "class cricket(play):\n",
    "  def __init__(self,location,day,team_leader):\n",
    "      self.team_leader=team_leader\n",
    "\n",
    "      play.__init__(self,location,day)\n",
    "\n",
    "  def display(self):\n",
    "      print(\"location is {}\".format(self.location))\n",
    "      print(\"location is {}\".format(self.day))\n",
    "      print(\"team_leader {}\".format(self.team_leader))\n",
    "\n",
    "class football(play):\n",
    "   def __init__(self,location,day,team_leader,no_of_player):\n",
    "      self.no_of_player=no_of_player\n",
    "\n",
    "      play.__init__(self,location,day)\n",
    "      cricket.__init__(self,location,day,team_leader)\n",
    "   def display(self):\n",
    "      print(\"location is {}\".format(self.location))\n",
    "      print(\"location is {}\".format(self.day))\n",
    "      print(\"team_leader {}\".format(self.team_leader))\n",
    "      print(\"no_of_player {}\".format(self.no_of_player))\n",
    "\n",
    "a=football('delhi','monday','ajay',11)\n",
    "a.details()\n",
    "a.display()"
   ]
  },
  {
   "cell_type": "code",
   "execution_count": 3,
   "id": "d984de70-ab57-42f8-91e4-e42c5bee85bc",
   "metadata": {},
   "outputs": [
    {
     "name": "stdout",
     "output_type": "stream",
     "text": [
      "121 is a palindrome\n",
      "7 is a prime number\n",
      "153 is an Armstrong number\n"
     ]
    }
   ],
   "source": [
    "class Number:\n",
    "    def __init__(self, number):\n",
    "        self.number = number\n",
    "\n",
    "    def palindrome(self):\n",
    "        num = str(self.number)\n",
    "        if num == num[::-1]:\n",
    "            print(\"{} is a palindrome\".format(self.number))\n",
    "        else:\n",
    "            print(\"{} is not a palindrome\".format(self.number))\n",
    "\n",
    "    def prime(self):\n",
    "        if self.number <= 1:\n",
    "            print(\"{} is not a prime number\".format(self.number))\n",
    "            return\n",
    "        for i in range(2, self.number):\n",
    "            if self.number % i == 0:\n",
    "                print(\"{} is not a prime number\".format(self.number))\n",
    "                return\n",
    "        print(\"{} is a prime number\".format(self.number))\n",
    "\n",
    "    def Armstrong(self):\n",
    "        original = self.number\n",
    "        count_digit = len(str(self.number))\n",
    "        sum_of_digit = 0\n",
    "        for digit_char in str(self.number):  \n",
    "            digit = int(digit_char)  \n",
    "            sum_of_digit += digit ** count_digit \n",
    "        \n",
    "        if sum_of_digit == original:\n",
    "            print(\"{} is an Armstrong number\".format(self.number))\n",
    "        else:\n",
    "            print(\"{} is not an Armstrong number\".format(self.number))\n",
    "\n",
    "class special_1(Number):\n",
    "    def __init__(self, number):\n",
    "        super().__init__(number)\n",
    "\n",
    "class special_2(Number):\n",
    "    def __init__(self, number):\n",
    "        super().__init__(number)\n",
    "\n",
    "class special_3(Number):\n",
    "    def __init__(self, number):\n",
    "        super().__init__(number)\n",
    "\n",
    "s1 = special_1(121)\n",
    "s1.palindrome()\n",
    "\n",
    "s2 = special_2(7)\n",
    "s2.prime()\n",
    "\n",
    "s3 = special_3(153)\n",
    "s3.Armstrong()"
   ]
  },
  {
   "cell_type": "code",
   "execution_count": 5,
   "id": "0d05c477-16ee-496e-8e9c-1f390b3b50de",
   "metadata": {},
   "outputs": [],
   "source": [
    "class List:\n",
    "    def __init__(self, number):\n",
    "        self.number = number\n",
    "\n",
    "#reverse   ascending     Descending"
   ]
  },
  {
   "cell_type": "code",
   "execution_count": 7,
   "id": "b445b046-0f34-461e-82a8-9684bfa7e0c3",
   "metadata": {},
   "outputs": [
    {
     "name": "stdout",
     "output_type": "stream",
     "text": [
      "5 3 8 6 2 \n",
      "Ascending order: [2, 3, 5, 6, 8]\n",
      "Descending order: [8, 6, 5, 3, 2]\n",
      "I am a Child class\n"
     ]
    }
   ],
   "source": [
    "class List:\n",
    "    \n",
    "    def reverse(self, List1):\n",
    "        for i in range(len(List1)-1, -1, -1):\n",
    "            print(List1[i], end=' ')\n",
    "        print()\n",
    "    \n",
    "    def ascending(self, List1):\n",
    "        for i in range(len(List1)):\n",
    "            min_index = i\n",
    "            for j in range(i+1, len(List1)):\n",
    "                if List1[j] < List1[min_index]:\n",
    "                    min_index = j\n",
    "            List1[i], List1[min_index] = List1[min_index], List1[i]\n",
    "        print(\"Ascending order:\", List1)\n",
    "            \n",
    "    def descending(self, List1):\n",
    "        for i in range(len(List1)):\n",
    "            max_index = i\n",
    "            for j in range(i+1, len(List1)):\n",
    "                if List1[j] > List1[max_index]:\n",
    "                    max_index = j\n",
    "            List1[i], List1[max_index] = List1[max_index], List1[i]\n",
    "        print(\"Descending order:\", List1)\n",
    "\n",
    "class child(List):\n",
    "    def name(self):\n",
    "        print(\"I am a Child class\")\n",
    "\n",
    "c1 = child()\n",
    "List1 = [2, 6, 8, 3, 5]\n",
    "c1.reverse(List1)\n",
    "c1.ascending(List1)\n",
    "c1.descending(List1)\n",
    "c1.name()"
   ]
  },
  {
   "cell_type": "code",
   "execution_count": 1,
   "id": "78ba0b61-7614-4428-aaa5-6cf970e931b6",
   "metadata": {},
   "outputs": [
    {
     "name": "stdout",
     "output_type": "stream",
     "text": [
      "This is Facebook\n",
      "This is Instagram\n",
      "This is Whatsapp\n"
     ]
    }
   ],
   "source": [
    "class Facebook:\n",
    "    def Community(self):\n",
    "        print(\"This is Facebook\")\n",
    "\n",
    "class Instagram:\n",
    "    def Community(self):\n",
    "        print(\"This is Instagram\")\n",
    "\n",
    "class Whatsapp:\n",
    "    def Community(self):\n",
    "        print(\"This is Whatsapp\")\n",
    "\n",
    "x=Facebook()\n",
    "x.Community()\n",
    "\n",
    "y=Instagram()\n",
    "y.Community()\n",
    "\n",
    "z=Whatsapp()\n",
    "z.Community()"
   ]
  },
  {
   "cell_type": "code",
   "execution_count": null,
   "id": "73ec4870-ed79-4444-8e9c-7f8096283c31",
   "metadata": {},
   "outputs": [],
   "source": []
  }
 ],
 "metadata": {
  "kernelspec": {
   "display_name": "Python [conda env:base] *",
   "language": "python",
   "name": "conda-base-py"
  },
  "language_info": {
   "codemirror_mode": {
    "name": "ipython",
    "version": 3
   },
   "file_extension": ".py",
   "mimetype": "text/x-python",
   "name": "python",
   "nbconvert_exporter": "python",
   "pygments_lexer": "ipython3",
   "version": "3.12.7"
  }
 },
 "nbformat": 4,
 "nbformat_minor": 5
}
