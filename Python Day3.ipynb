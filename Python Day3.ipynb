{
 "cells": [
  {
   "cell_type": "markdown",
   "id": "79198b1c-948a-43e9-bf89-389cb69469d8",
   "metadata": {},
   "source": [
    "# Day 5"
   ]
  },
  {
   "cell_type": "code",
   "execution_count": null,
   "id": "5fa2dcce-ec24-4360-9589-d1bed84baf68",
   "metadata": {},
   "outputs": [],
   "source": []
  },
  {
   "cell_type": "code",
   "execution_count": 1,
   "id": "8f51da4f-b7ad-45e8-83e1-cc6f3edc5124",
   "metadata": {},
   "outputs": [
    {
     "name": "stdin",
     "output_type": "stream",
     "text": [
      "enter the 1stnumber 1\n",
      "enter the 2ndnumber 2\n",
      "enter the 3rdnumber 3\n"
     ]
    },
    {
     "name": "stdout",
     "output_type": "stream",
     "text": [
      "choice an operation\n",
      "addition\n",
      "substraction\n",
      "multiplication\n",
      "division\n"
     ]
    },
    {
     "name": "stdin",
     "output_type": "stream",
     "text": [
      "enter the choice: 1\n"
     ]
    },
    {
     "name": "stdout",
     "output_type": "stream",
     "text": [
      "result 6\n",
      "choice an operation\n",
      "addition\n",
      "substraction\n",
      "multiplication\n",
      "division\n"
     ]
    },
    {
     "name": "stdin",
     "output_type": "stream",
     "text": [
      "enter the choice: 5\n"
     ]
    },
    {
     "name": "stdout",
     "output_type": "stream",
     "text": [
      "exit\n"
     ]
    }
   ],
   "source": [
    "def add(num1,num2,num3):\n",
    "    return num1+num2+num3\n",
    "\n",
    "def sub(num1,num2,num3):\n",
    "    return num1-num2-num3\n",
    "\n",
    "def mul(num1,num2,num3):\n",
    "    return num1*num2*num3\n",
    "\n",
    "def div(num1,num2,num3):\n",
    "    return num1/num2/num3\n",
    "\n",
    "\n",
    "def operation():\n",
    "    num1=int(input(\"enter the 1stnumber\"))\n",
    "    num2=int(input(\"enter the 2ndnumber\"))\n",
    "    num3=int(input(\"enter the 3rdnumber\"))\n",
    "    while True:\n",
    "        print(\"choice an operation\")\n",
    "        print(\"addition\")\n",
    "        print(\"substraction\")\n",
    "        print(\"multiplication\")\n",
    "        print(\"division\")\n",
    "        \n",
    "        choice =input(\"enter the choice:\")\n",
    "        \n",
    "        if choice ==\"1\":\n",
    "            print(\"result\",add(num1,num2,num3))\n",
    "        elif choice==\"2\":\n",
    "            print(\"result\",sub(num1,num2,num3))\n",
    "        elif choice==\"3\":\n",
    "            print(\"result\",mul(num1,num2,num3))\n",
    "        elif choice==\"4\":\n",
    "            print(\"result\",div(num1,num2,num3))\n",
    "        elif choice==\"5\":\n",
    "            print(\"exit\")\n",
    "            break\n",
    "        else:\n",
    "            print(\"envalid choice\")\n",
    "\n",
    "operation()"
   ]
  },
  {
   "cell_type": "markdown",
   "id": "f567c291-0a2a-449f-887a-2bbdd709be50",
   "metadata": {},
   "source": [
    "# random module"
   ]
  },
  {
   "cell_type": "code",
   "execution_count": 35,
   "id": "273b55e1-486d-48dd-bd71-f8bd65c87233",
   "metadata": {},
   "outputs": [
    {
     "data": {
      "text/plain": [
       "0.8997155787125758"
      ]
     },
     "execution_count": 35,
     "metadata": {},
     "output_type": "execute_result"
    }
   ],
   "source": [
    "import random as rand\n",
    "rand.random()*100\n",
    "#rand.randint(1,6)\n",
    "#rand.choice() "
   ]
  },
  {
   "cell_type": "code",
   "execution_count": 31,
   "id": "851ac45d-c340-4084-a244-09a7ebc09eaa",
   "metadata": {},
   "outputs": [
    {
     "name": "stdout",
     "output_type": "stream",
     "text": [
      "head\n"
     ]
    }
   ],
   "source": [
    "import random as rand\n",
    "toss=rand.randint(1,6)\n",
    "if toss == 1:\n",
    "    print(\"tail\")\n",
    "else:\n",
    "    print(\"head\")\n",
    "\n",
    "#<true statement> if <condition> else <false statement>"
   ]
  },
  {
   "cell_type": "code",
   "execution_count": 15,
   "id": "e964dd8b-0827-4387-b38d-b62e75147f53",
   "metadata": {},
   "outputs": [
    {
     "name": "stdout",
     "output_type": "stream",
     "text": [
      "c\n"
     ]
    }
   ],
   "source": [
    "names=[\"a\",\"b\",\"c\"]\n",
    "print(rand.choice(names))\n"
   ]
  },
  {
   "cell_type": "markdown",
   "id": "7a6ade50-514b-42bf-91e5-687cdb56be1f",
   "metadata": {},
   "source": [
    " # Take names of persons and pick one to pay bill"
   ]
  },
  {
   "cell_type": "code",
   "execution_count": 17,
   "id": "4b5d2869-728e-425e-aa0d-4051c302f10b",
   "metadata": {},
   "outputs": [
    {
     "name": "stdin",
     "output_type": "stream",
     "text": [
      "enter the names darshana,anjali,manasi\n"
     ]
    },
    {
     "name": "stdout",
     "output_type": "stream",
     "text": [
      "darshana\n"
     ]
    }
   ],
   "source": [
    "import random as rand\n",
    "a=input(\"enter the names\").split(\",\")\n",
    "print(rand.choice(a))"
   ]
  },
  {
   "cell_type": "code",
   "execution_count": 21,
   "id": "9c0db761-2e6c-409c-becb-6d0533961ada",
   "metadata": {},
   "outputs": [
    {
     "name": "stdin",
     "output_type": "stream",
     "text": [
      "enter the names a,b,c\n"
     ]
    },
    {
     "name": "stdout",
     "output_type": "stream",
     "text": [
      "a should pay bill\n"
     ]
    }
   ],
   "source": [
    "import random as rand\n",
    "names=input(\"enter the names\").split(\",\")\n",
    "rand_index=rand.randint(0,len(names)-1)\n",
    "print(names[rand_index],\"should pay bill\")"
   ]
  },
  {
   "cell_type": "markdown",
   "id": "b1aea962-5ba7-4550-9287-2ca2e123d6e3",
   "metadata": {},
   "source": [
    "# Game Of Guessing The Correct Number From The Random Numbers"
   ]
  },
  {
   "cell_type": "code",
   "execution_count": 3,
   "id": "a2d7ca3c-2e4b-48ad-b284-355905fccc07",
   "metadata": {},
   "outputs": [
    {
     "name": "stdin",
     "output_type": "stream",
     "text": [
      "Enter your guess (between 1 and 50):  1\n"
     ]
    },
    {
     "name": "stdout",
     "output_type": "stream",
     "text": [
      " You are far away from the number.\n",
      "4 chances left.\n"
     ]
    },
    {
     "name": "stdin",
     "output_type": "stream",
     "text": [
      "Enter your guess (between 1 and 50):  50\n"
     ]
    },
    {
     "name": "stdout",
     "output_type": "stream",
     "text": [
      " You are far away from the number.\n",
      "3 chances left.\n"
     ]
    },
    {
     "name": "stdin",
     "output_type": "stream",
     "text": [
      "Enter your guess (between 1 and 50):  3\n"
     ]
    },
    {
     "name": "stdout",
     "output_type": "stream",
     "text": [
      " You are far away from the number.\n",
      "2 chances left.\n"
     ]
    },
    {
     "name": "stdin",
     "output_type": "stream",
     "text": [
      "Enter your guess (between 1 and 50):  10\n"
     ]
    },
    {
     "name": "stdout",
     "output_type": "stream",
     "text": [
      "You are close.\n",
      "1 chances left.\n"
     ]
    },
    {
     "name": "stdin",
     "output_type": "stream",
     "text": [
      "Enter your guess (between 1 and 50):  20\n"
     ]
    },
    {
     "name": "stdout",
     "output_type": "stream",
     "text": [
      "You are close.\n",
      "0 chances left.\n",
      "Game Over! The correct number was 16.\n"
     ]
    }
   ],
   "source": [
    "import random as rand\n",
    "\n",
    "num = rand.randint(1, 50) \n",
    "chances = 5 \n",
    "2\n",
    "while chances > 0:\n",
    "    guess = int(input(\"Enter your guess (between 1 and 50): \"))\n",
    "\n",
    "    if guess < 1 or guess > 50:  \n",
    "        print(\" Number is out of range! Please enter a number between 1 and 50.\")\n",
    "        continue \n",
    "    \n",
    "    if guess == num:\n",
    "        print(\"You won!\")\n",
    "        break\n",
    "    else:\n",
    "        difference = abs(num - guess)\n",
    "\n",
    "        if difference <= 3:\n",
    "            print(\"You are very close!\")\n",
    "        elif difference <= 10:\n",
    "            print(\"You are close.\")\n",
    "        else:\n",
    "            print(\" You are far away from the number.\")\n",
    "\n",
    "        chances -= 1 \n",
    "        print(f\"{chances} chances left.\")\n",
    "\n",
    "if chances == 0:\n",
    "    print(f\"Game Over! The correct number was {num}.\")\n"
   ]
  },
  {
   "cell_type": "markdown",
   "id": "aaec690e-d35e-44fd-91e6-66aec1bdd19d",
   "metadata": {},
   "source": [
    "# Dictionary"
   ]
  },
  {
   "cell_type": "code",
   "execution_count": 2,
   "id": "9e2b0581-a836-40a3-bfe3-81810d982593",
   "metadata": {},
   "outputs": [],
   "source": [
    "empty_dict={}\n",
    "empty_dict2=dict()"
   ]
  },
  {
   "cell_type": "code",
   "execution_count": 10,
   "id": "20f95bfa-6e11-486e-82e7-ce408ced9fa0",
   "metadata": {},
   "outputs": [
    {
     "data": {
      "text/plain": [
       "{1: 'one', 'name': 'vignesh', 'age': 30, 'address': 'solapur'}"
      ]
     },
     "execution_count": 10,
     "metadata": {},
     "output_type": "execute_result"
    }
   ],
   "source": [
    "emp_info={ 1:'one', #we assign key that are immutable ex=tuple only key .key is used for both key and value item() is used\n",
    "           'name' : 'vignesh' , #.get() used to check value is exist or not\n",
    "           'age' : 30,\n",
    "           'address' : 'solapur'}\n",
    "emp_info        "
   ]
  },
  {
   "cell_type": "code",
   "execution_count": 12,
   "id": "54a85c65-6931-4566-a13c-9a21dfbecec7",
   "metadata": {},
   "outputs": [
    {
     "name": "stdout",
     "output_type": "stream",
     "text": [
      "{'stud1': {'age': 25, 'rollno': 1000}, 'stud2': {'age': 20, 'rollno': 2000}}\n"
     ]
    }
   ],
   "source": [
    "stud_det={'stud1':{'age':25,'rollno':1000},\n",
    "          'stud2':{'age':20,'rollno':2000}}# for accessing stud1 that are accessed using key only\n",
    "print(stud_det)"
   ]
  },
  {
   "cell_type": "code",
   "execution_count": 14,
   "id": "28d0b5ee-c475-40d3-8bec-77f59f8bff29",
   "metadata": {},
   "outputs": [
    {
     "data": {
      "text/plain": [
       "25"
      ]
     },
     "execution_count": 14,
     "metadata": {},
     "output_type": "execute_result"
    }
   ],
   "source": [
    "stud_det['stud1']['age']"
   ]
  },
  {
   "cell_type": "code",
   "execution_count": 107,
   "id": "538819cd-1599-4ed4-83df-001279e6666b",
   "metadata": {},
   "outputs": [
    {
     "ename": "TypeError",
     "evalue": "'str' object does not support item assignment",
     "output_type": "error",
     "traceback": [
      "\u001b[1;31m---------------------------------------------------------------------------\u001b[0m",
      "\u001b[1;31mTypeError\u001b[0m                                 Traceback (most recent call last)",
      "Cell \u001b[1;32mIn[107], line 4\u001b[0m\n\u001b[0;32m      1\u001b[0m \u001b[38;5;66;03m#sort() is return new list not affect original list  and .sort() is used for particular list that affect that particular list \u001b[39;00m\n\u001b[0;32m      3\u001b[0m \u001b[38;5;28mstr\u001b[39m\u001b[38;5;241m=\u001b[39m\u001b[38;5;124m'\u001b[39m\u001b[38;5;124mdarshana\u001b[39m\u001b[38;5;124m'\u001b[39m\n\u001b[1;32m----> 4\u001b[0m \u001b[38;5;28mstr\u001b[39m[\u001b[38;5;241m2\u001b[39m]\u001b[38;5;241m=\u001b[39m\u001b[38;5;124m'\u001b[39m\u001b[38;5;124ma\u001b[39m\u001b[38;5;124m'\u001b[39m\n",
      "\u001b[1;31mTypeError\u001b[0m: 'str' object does not support item assignment"
     ]
    }
   ],
   "source": [
    "#sort() is return new list not affect original list  and .sort() is used for particular list that affect that particular list \n",
    "\n",
    "str='darshana'\n",
    "str[2]='a'\n",
    "\n",
    "# give the error as TypeError: 'str' object does not support item assignment"
   ]
  },
  {
   "cell_type": "code",
   "execution_count": 20,
   "id": "e929fd9c-e565-4bd4-8ef8-fe195e4e70c1",
   "metadata": {},
   "outputs": [
    {
     "data": {
      "text/plain": [
       "140703710390872"
      ]
     },
     "execution_count": 20,
     "metadata": {},
     "output_type": "execute_result"
    }
   ],
   "source": [
    "a=6\n",
    "b=a\n",
    "id(a)"
   ]
  },
  {
   "cell_type": "code",
   "execution_count": 22,
   "id": "7f6a841b-5d15-4b62-90e8-d13cc81c3a33",
   "metadata": {},
   "outputs": [
    {
     "data": {
      "text/plain": [
       "140703710390872"
      ]
     },
     "execution_count": 22,
     "metadata": {},
     "output_type": "execute_result"
    }
   ],
   "source": [
    "id(b)"
   ]
  },
  {
   "cell_type": "code",
   "execution_count": 24,
   "id": "c97494c8-0f90-4f0a-af2c-8cd478a5acf6",
   "metadata": {},
   "outputs": [
    {
     "data": {
      "text/plain": [
       "140703710390872"
      ]
     },
     "execution_count": 24,
     "metadata": {},
     "output_type": "execute_result"
    }
   ],
   "source": [
    "a=4\n",
    "id(b)"
   ]
  },
  {
   "cell_type": "code",
   "execution_count": 26,
   "id": "ce3f11d5-21ad-4c96-87d0-0893aace81af",
   "metadata": {},
   "outputs": [
    {
     "name": "stdout",
     "output_type": "stream",
     "text": [
      "[1, 2, 3]\n"
     ]
    }
   ],
   "source": [
    "list=[1,2,3]\n",
    "list1=list\n",
    "print(list1)"
   ]
  },
  {
   "cell_type": "code",
   "execution_count": 32,
   "id": "a81f6d66-7f9a-4a88-ba91-de87a9d284d0",
   "metadata": {},
   "outputs": [
    {
     "name": "stdout",
     "output_type": "stream",
     "text": [
      "[1, 2, 3, 4]\n",
      "[1, 2, 3]\n"
     ]
    }
   ],
   "source": [
    "list=[1,2,3,4]\n",
    "print(list)\n",
    "print(list1)"
   ]
  },
  {
   "cell_type": "markdown",
   "id": "e47e6ee2-33fe-4a79-bcfd-3105be755f0a",
   "metadata": {},
   "source": [
    "# Check the password  length (8-16) and must contain alpahabet,digits,special charachetrs"
   ]
  },
  {
   "cell_type": "code",
   "execution_count": 76,
   "id": "5251f304-b20a-4e51-bb8e-bbae6c00c1c3",
   "metadata": {},
   "outputs": [
    {
     "name": "stdin",
     "output_type": "stream",
     "text": [
      "enter the password Darshana@2387\n"
     ]
    },
    {
     "name": "stdout",
     "output_type": "stream",
     "text": [
      "password is valid\n"
     ]
    }
   ],
   "source": [
    "def check_pass(password):\n",
    "    if not (8<len(password)<16):\n",
    "        return \"password length must be between 8 to 16\"\n",
    "\n",
    "    has_alpha=False\n",
    "    has_digit=False\n",
    "    has_special=False\n",
    "    special_chars = \"!@#$%^&*(),.?\\\":{}|<>\"\n",
    "\n",
    "    for char in password:\n",
    "        if char.isalpha():\n",
    "            has_alpha=True\n",
    "        elif char.isdigit():\n",
    "            has_digit=True\n",
    "        elif char in special_chars:\n",
    "            has_special=True\n",
    "\n",
    "    if not (has_alpha ):\n",
    "        return \"password must contain at least one alphabet\"\n",
    "    elif not (has_digit):\n",
    "        return \"password must contain digit\"\n",
    "    elif not (has_special):\n",
    "        return \"password must conatin special\"\n",
    "\n",
    "    return \"password is valid\"\n",
    "password=input(\"enter the password\")\n",
    "print(check_pass(password))\n",
    "\n"
   ]
  },
  {
   "cell_type": "markdown",
   "id": "9046c584-8dd2-4ca8-b9d5-2623d9fc4391",
   "metadata": {},
   "source": [
    "# Print The Sum Of Non Duplicate Numbers"
   ]
  },
  {
   "cell_type": "code",
   "execution_count": 102,
   "id": "85ac4715-355a-41c4-8873-bf20f0918e27",
   "metadata": {},
   "outputs": [
    {
     "name": "stdin",
     "output_type": "stream",
     "text": [
      "Enter the numbers separated by spaces:  4 5 6\n"
     ]
    },
    {
     "name": "stdout",
     "output_type": "stream",
     "text": [
      "Sum of non-duplicate values: 15\n"
     ]
    }
   ],
   "source": [
    "numbers = input(\"Enter the numbers : \").split()  # Split input by spaces\n",
    "numbers = [int(num) for num in numbers]  # Convert each number to an integer\n",
    "\n",
    "sum_unique = 0\n",
    "\n",
    "for num in numbers:\n",
    "    if numbers.count(num) == 1:\n",
    "        sum_unique += num\n",
    "\n",
    "print(\"Sum of non-duplicate values:\", sum_unique)\n"
   ]
  },
  {
   "cell_type": "markdown",
   "id": "dfacdfff-1a1b-4b42-a682-82d75c36dda4",
   "metadata": {},
   "source": [
    "# Count The Charachers In The String"
   ]
  },
  {
   "cell_type": "code",
   "execution_count": 113,
   "id": "88bb5725-ef77-4858-8a6a-8a3bcc57cd6c",
   "metadata": {},
   "outputs": [
    {
     "name": "stdin",
     "output_type": "stream",
     "text": [
      "enter the string: darshana\n"
     ]
    },
    {
     "name": "stdout",
     "output_type": "stream",
     "text": [
      "the charachter 'd' appears 1 times in the string\n",
      "the charachter 'a' appears 3 times in the string\n",
      "the charachter 'r' appears 1 times in the string\n",
      "the charachter 's' appears 1 times in the string\n",
      "the charachter 'h' appears 1 times in the string\n",
      "the charachter 'n' appears 1 times in the string\n"
     ]
    }
   ],
   "source": [
    "def count_character(string):\n",
    "    char_count={}\n",
    "    for char in string:\n",
    "        char_count[char] =char_count.get(char,0)+1\n",
    "    return char_count\n",
    "\n",
    "string=input(\"enter the string:\")\n",
    "\n",
    "char_counts = count_character(string)\n",
    "for char, count in char_counts.items():\n",
    "    print(f\"the charachter '{char}' appears {count} times in the string\")\n"
   ]
  },
  {
   "cell_type": "markdown",
   "id": "23d2200d-939a-4828-a15c-4abd71bd230d",
   "metadata": {},
   "source": [
    "# BuzzFizz problem"
   ]
  },
  {
   "cell_type": "code",
   "execution_count": 117,
   "id": "058010d3-1a2b-4026-8511-2e8e0470aba1",
   "metadata": {},
   "outputs": [
    {
     "name": "stdin",
     "output_type": "stream",
     "text": [
      "Enter the number:  24\n"
     ]
    },
    {
     "name": "stdout",
     "output_type": "stream",
     "text": [
      "1\n",
      "2\n",
      "Fizz\n",
      "4\n",
      "Buzz\n",
      "Fizz\n",
      "7\n",
      "8\n",
      "Fizz\n",
      "Buzz\n",
      "11\n",
      "Fizz\n",
      "13\n",
      "14\n",
      "FizzBuzz\n",
      "16\n",
      "17\n",
      "Fizz\n",
      "19\n",
      "Buzz\n",
      "Fizz\n",
      "22\n",
      "23\n",
      "Fizz\n"
     ]
    }
   ],
   "source": [
    "num = int(input(\"Enter the number: \"))\n",
    "\n",
    "for i in range(1, num + 1):\n",
    "    if i % 3 == 0 and i % 5 == 0:\n",
    "        print(\"FizzBuzz\")\n",
    "    elif i % 3 == 0:\n",
    "        print(\"Fizz\")\n",
    "    elif i % 5 == 0:\n",
    "        print(\"Buzz\")\n",
    "    else:\n",
    "        print(i)  # Print numbers that are not multiples of 3 or 5\n"
   ]
  },
  {
   "cell_type": "markdown",
   "id": "37fcd7bc-5126-44a4-ba1c-60067267fbd4",
   "metadata": {},
   "source": [
    "# Random Password Generator"
   ]
  },
  {
   "cell_type": "code",
   "execution_count": 123,
   "id": "12f8173a-a8b3-4552-b9ac-cdb61f09d4e3",
   "metadata": {
    "scrolled": true
   },
   "outputs": [
    {
     "name": "stdin",
     "output_type": "stream",
     "text": [
      "Enter the desired password length:  10\n"
     ]
    },
    {
     "name": "stdout",
     "output_type": "stream",
     "text": [
      "Generated password: f|+9&*i&#z\n"
     ]
    }
   ],
   "source": [
    "import random\n",
    "import string\n",
    "\n",
    "def generate_password(length):\n",
    "    characters = string.ascii_letters + string.digits + string.punctuation\n",
    "    password = ''.join(random.choice(characters) for _ in range(length))\n",
    "    return password\n",
    "\n",
    "# Input from user\n",
    "length = int(input(\"Enter the desired password length: \"))\n",
    "\n",
    "# Generate and print password\n",
    "password = generate_password(length)\n",
    "print(\"Generated password:\", password)\n"
   ]
  },
  {
   "cell_type": "markdown",
   "id": "8407503e-3d9b-4a7d-a5d2-4b8ecae56e97",
   "metadata": {},
   "source": [
    "# Rock Paper Scissor game"
   ]
  },
  {
   "cell_type": "code",
   "execution_count": 130,
   "id": "40a127a5-7c8f-426f-bb39-a27ad9080f96",
   "metadata": {},
   "outputs": [
    {
     "name": "stdin",
     "output_type": "stream",
     "text": [
      "Enter rock, paper, or scissors:  rock\n"
     ]
    },
    {
     "name": "stdout",
     "output_type": "stream",
     "text": [
      "You chose: rock\n",
      "Computer chose: scissors\n",
      "You win!\n"
     ]
    }
   ],
   "source": [
    "import random\n",
    "\n",
    "def play_game():\n",
    "    choices = ['rock', 'paper', 'scissors']\n",
    "    user_choice = input(\"Enter rock, paper, or scissors: \").lower()\n",
    "    computer_choice = random.choice(choices)\n",
    "    \n",
    "    print(f\"You chose: {user_choice}\")\n",
    "    print(f\"Computer chose: {computer_choice}\")\n",
    "    \n",
    "    if user_choice == computer_choice:\n",
    "        print(\"It's a tie!\")\n",
    "    elif (user_choice == 'rock' and computer_choice == 'scissors') or \\\n",
    "         (user_choice == 'scissors' and computer_choice == 'paper') or \\\n",
    "         (user_choice == 'paper' and computer_choice == 'rock'):\n",
    "        print(\"You win!\")\n",
    "    else:\n",
    "        print(\"Computer wins!\")\n",
    "\n",
    "play_game()\n"
   ]
  },
  {
   "cell_type": "code",
   "execution_count": null,
   "id": "62e1d3c6-c1be-4b16-83b5-f0c03bd1bbfb",
   "metadata": {},
   "outputs": [],
   "source": []
  },
  {
   "cell_type": "code",
   "execution_count": null,
   "id": "b1a24af7-43fc-4767-a9c8-0b9d31f217fe",
   "metadata": {},
   "outputs": [],
   "source": []
  }
 ],
 "metadata": {
  "kernelspec": {
   "display_name": "Python [conda env:base] *",
   "language": "python",
   "name": "conda-base-py"
  },
  "language_info": {
   "codemirror_mode": {
    "name": "ipython",
    "version": 3
   },
   "file_extension": ".py",
   "mimetype": "text/x-python",
   "name": "python",
   "nbconvert_exporter": "python",
   "pygments_lexer": "ipython3",
   "version": "3.12.7"
  }
 },
 "nbformat": 4,
 "nbformat_minor": 5
}
