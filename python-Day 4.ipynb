{
 "cells": [
  {
   "cell_type": "code",
   "execution_count": null,
   "id": "ef4958bd-ee49-4573-a400-20592c56d7fd",
   "metadata": {},
   "outputs": [],
   "source": [
    "# for declare the constant we simply declare it is in caps(capital letters)\n",
    "# module is a collection of packages"
   ]
  },
  {
   "cell_type": "markdown",
   "id": "b36f1baa-1e23-4804-afeb-738f8ebf6b50",
   "metadata": {},
   "source": [
    "# File Handling"
   ]
  },
  {
   "cell_type": "code",
   "execution_count": 65,
   "id": "b5fd27d0-ec1f-46c6-ae08-abaf2f7e79c4",
   "metadata": {},
   "outputs": [],
   "source": [
    "with open (\"darshana.txt\",\"w\") as file:\n",
    "    file.write(\"hello,this is s test file created in jupyter notebook.\")"
   ]
  },
  {
   "cell_type": "code",
   "execution_count": 9,
   "id": "7a426e11-bd0a-49fb-bffe-c34ee9c3119d",
   "metadata": {},
   "outputs": [
    {
     "name": "stdout",
     "output_type": "stream",
     "text": [
      "C:\\Users\\daras\\python_traninig\n"
     ]
    }
   ],
   "source": [
    "import os \n",
    "print(os.getcwd())"
   ]
  },
  {
   "cell_type": "code",
   "execution_count": 11,
   "id": "6ddd0456-c97b-4c32-80e3-77bd42919b2e",
   "metadata": {},
   "outputs": [
    {
     "name": "stdout",
     "output_type": "stream",
     "text": [
      "darshana.txt\n"
     ]
    }
   ],
   "source": [
    "print(file.name)"
   ]
  },
  {
   "cell_type": "code",
   "execution_count": 13,
   "id": "743450bf-f70f-4a5a-880f-fd4615a0f5a8",
   "metadata": {},
   "outputs": [
    {
     "name": "stdout",
     "output_type": "stream",
     "text": [
      "w\n"
     ]
    }
   ],
   "source": [
    "print(file.mode)"
   ]
  },
  {
   "cell_type": "code",
   "execution_count": 67,
   "id": "9ca94e12-b2ce-4de3-8d91-17a24d931b22",
   "metadata": {},
   "outputs": [
    {
     "name": "stdout",
     "output_type": "stream",
     "text": [
      "['hello,this is s test file created in jupyter notebook.']\n"
     ]
    }
   ],
   "source": [
    "with open(\"darshana.txt\",'r') as file:\n",
    "    lines=file.readlines()\n",
    "    print(lines)"
   ]
  },
  {
   "cell_type": "code",
   "execution_count": null,
   "id": "eaf82c97-3dec-4435-a144-a7ca65409503",
   "metadata": {},
   "outputs": [],
   "source": [
    "class person:\n",
    "    def __init__(self,name,age):\n",
    "        self.name=name\n",
    "        self.age=age\n",
    "\n",
    "    def myfun(self):\n",
    "        "
   ]
  },
  {
   "cell_type": "code",
   "execution_count": 3,
   "id": "10495a37-a300-42c1-b5ee-bcd7d3e7c6af",
   "metadata": {},
   "outputs": [
    {
     "name": "stdout",
     "output_type": "stream",
     "text": [
      "this is second constructor\n"
     ]
    },
    {
     "data": {
      "text/plain": [
       "<__main__.person at 0x2033b8e4230>"
      ]
     },
     "execution_count": 3,
     "metadata": {},
     "output_type": "execute_result"
    }
   ],
   "source": [
    "class multicast:\n",
    "    def __init__(self):\n",
    "        print(\"this is first constructor\")\n",
    "\n",
    "    def __init__(self):\n",
    "        print(\"this is second constructor\")\n",
    "\n",
    "multicast()"
   ]
  },
  {
   "cell_type": "code",
   "execution_count": 5,
   "id": "eda27298-19fc-4a5f-9327-ef35cabfe8be",
   "metadata": {},
   "outputs": [
    {
     "name": "stdout",
     "output_type": "stream",
     "text": [
      "init method called by default\n"
     ]
    }
   ],
   "source": [
    "class student:\n",
    "    id_no=10\n",
    "    name='stud1'\n",
    "    def __init__(self):\n",
    "        print(\"init method called by default\")\n",
    "\n",
    "stud=student()"
   ]
  },
  {
   "cell_type": "code",
   "execution_count": 7,
   "id": "c3efad6b-9e7f-478f-b576-5cbf2d1a1449",
   "metadata": {},
   "outputs": [],
   "source": [
    "student.id_no=20"
   ]
  },
  {
   "cell_type": "code",
   "execution_count": 9,
   "id": "f7afd9d8-3757-40f1-a3b2-5aebe74e8053",
   "metadata": {},
   "outputs": [
    {
     "name": "stdout",
     "output_type": "stream",
     "text": [
      "init method called by default\n"
     ]
    }
   ],
   "source": [
    "obj=student()"
   ]
  },
  {
   "cell_type": "code",
   "execution_count": 11,
   "id": "e43f69b5-535f-4cff-a137-5d4cd569a95c",
   "metadata": {},
   "outputs": [
    {
     "data": {
      "text/plain": [
       "20"
      ]
     },
     "execution_count": 11,
     "metadata": {},
     "output_type": "execute_result"
    }
   ],
   "source": [
    "obj.id_no"
   ]
  },
  {
   "cell_type": "code",
   "execution_count": 13,
   "id": "3f69b7d1-28d8-4202-9b3f-55d0a6c04dca",
   "metadata": {},
   "outputs": [],
   "source": [
    "obj.id_no=30"
   ]
  },
  {
   "cell_type": "code",
   "execution_count": 15,
   "id": "9ac56112-bf27-4d80-bc0f-61415acf9c80",
   "metadata": {},
   "outputs": [
    {
     "data": {
      "text/plain": [
       "20"
      ]
     },
     "execution_count": 15,
     "metadata": {},
     "output_type": "execute_result"
    }
   ],
   "source": [
    "student.id_no"
   ]
  },
  {
   "cell_type": "code",
   "execution_count": 17,
   "id": "55eb48be-0fcb-4209-89e3-4281d85f2abe",
   "metadata": {},
   "outputs": [
    {
     "data": {
      "text/plain": [
       "30"
      ]
     },
     "execution_count": 17,
     "metadata": {},
     "output_type": "execute_result"
    }
   ],
   "source": [
    "obj.id_no"
   ]
  },
  {
   "cell_type": "code",
   "execution_count": 29,
   "id": "909b1ef7-753f-4d48-a471-c3e1be5cd8f0",
   "metadata": {},
   "outputs": [
    {
     "name": "stdout",
     "output_type": "stream",
     "text": [
      "__str__ magic function\n"
     ]
    }
   ],
   "source": [
    "# magic method\n",
    "\n",
    "class Point:\n",
    "    \n",
    "    def __init__(self, x,y):\n",
    "        self.x = x\n",
    "        self.y = y\n",
    "        \n",
    "    def __str__(self):\n",
    "        return (f\"__str__ magic function\")\n",
    "    \n",
    "    def draw(self):\n",
    "        print(f\"Point ({self.x}, {self.y})\")\n",
    "\n",
    "point = Point(3,9)\n",
    "# print(point.__str__())\n",
    "print(str(point))"
   ]
  },
  {
   "cell_type": "code",
   "execution_count": 31,
   "id": "bcee9a6d-4ffc-49f7-95ea-29269b5f2a15",
   "metadata": {},
   "outputs": [
    {
     "name": "stdout",
     "output_type": "stream",
     "text": [
      "Point (3, 9)\n"
     ]
    }
   ],
   "source": [
    "point.draw()"
   ]
  },
  {
   "cell_type": "code",
   "execution_count": 33,
   "id": "d5d3fc6e-bc04-403a-a3b1-40675809fad5",
   "metadata": {},
   "outputs": [
    {
     "name": "stdout",
     "output_type": "stream",
     "text": [
      "False\n",
      "True\n"
     ]
    }
   ],
   "source": [
    "# comparision magic methods\n",
    "class Point:\n",
    "    \n",
    "    def __init__(self, x,y):\n",
    "        self.x = x\n",
    "        self.y = y\n",
    "    \n",
    "    def __eq__(self,other):\n",
    "        return self.x == other.x and self.y == other.y\n",
    "    \n",
    "    def __lt__(self, other):\n",
    "        return self.x < other.x and self.y < other.y\n",
    "\n",
    "point = Point(3,9)\n",
    "another_point = Point(13,19)\n",
    "\n",
    "print(point == another_point)\n",
    "print(point < another_point)"
   ]
  },
  {
   "cell_type": "code",
   "execution_count": 35,
   "id": "54b7dd03-e215-4c46-8fcf-170ad340f410",
   "metadata": {},
   "outputs": [
    {
     "name": "stdout",
     "output_type": "stream",
     "text": [
      "16 28\n",
      "-10 -10\n"
     ]
    }
   ],
   "source": [
    "# numeric magic method\n",
    "class Point:\n",
    "    \n",
    "    def __init__(self, x,y):\n",
    "        self.x = x\n",
    "        self.y = y\n",
    "    \n",
    "    def __add__(self, other):\n",
    "        return Point(self.x + other.x, self.y + other.y)\n",
    "    \n",
    "    def __sub__(self, other):\n",
    "        return Point(self.x - other.x, self.y - other.y)\n",
    "\n",
    "point = Point(3,9)\n",
    "another_point = Point(13,19)\n",
    "\n",
    "comp_add = point + another_point\n",
    "print(comp_add.x, comp_add.y)\n",
    "\n",
    "comp_sub = point - another_point\n",
    "print(comp_sub.x, comp_sub.y)"
   ]
  },
  {
   "cell_type": "code",
   "execution_count": 37,
   "id": "76da42c4-ef2d-4432-9c33-23251b902081",
   "metadata": {},
   "outputs": [],
   "source": [
    "del point.y"
   ]
  },
  {
   "cell_type": "code",
   "execution_count": 49,
   "id": "4ee80436-f125-4b26-80f5-94a2c5b3730b",
   "metadata": {},
   "outputs": [
    {
     "name": "stdout",
     "output_type": "stream",
     "text": [
      "all animals eats\n"
     ]
    }
   ],
   "source": [
    "class animal:\n",
    "    def eat(self):\n",
    "        print(\"all animals eats\")\n",
    "\n",
    "class mammal(animal):\n",
    "    def walk(self):\n",
    "        print('walk')\n",
    "\n",
    "class fish:\n",
    "    def eat(self):\n",
    "        print(\"fish eats\")\n",
    "        \n",
    "obj=mammal()\n",
    "obj.eat()"
   ]
  },
  {
   "cell_type": "code",
   "execution_count": 53,
   "id": "18023ed6-8bf8-403b-a0f8-dea2073b120c",
   "metadata": {},
   "outputs": [
    {
     "data": {
      "text/plain": [
       "19"
      ]
     },
     "execution_count": 53,
     "metadata": {},
     "output_type": "execute_result"
    }
   ],
   "source": [
    "another_point.y"
   ]
  },
  {
   "cell_type": "code",
   "execution_count": 55,
   "id": "7562e36b-9327-4ab0-9daf-8952cacc02bd",
   "metadata": {},
   "outputs": [],
   "source": [
    "del another_point"
   ]
  },
  {
   "cell_type": "code",
   "execution_count": 69,
   "id": "f313afef-0c59-4880-8751-6cc5cab79f0d",
   "metadata": {},
   "outputs": [
    {
     "name": "stdout",
     "output_type": "stream",
     "text": [
      "Fish eats\n"
     ]
    }
   ],
   "source": [
    "class Animal:\n",
    "    def _init_(self):  #Constructor\n",
    "        self.age=1\n",
    "        print('age: ',self.age)\n",
    "    \n",
    "    def eat(self):\n",
    "        print(\"All animals Eat\")\n",
    "\n",
    "class mammal(Animal):\n",
    "    def _init_(self):\n",
    "        self.weight=10\n",
    "        print('Weight: ',self.weight)\n",
    "        super()._init_()      #calls the super class consructor\n",
    "        \n",
    "    def walk(self):\n",
    "        print(\"Walk\")\n",
    "\n",
    "\n",
    "class Fish(Animal):\n",
    "    def eat(self):\n",
    "        print(\"Fish eats\")\n",
    "\n",
    "obj=Fish()\n",
    "obj.eat()\n",
    "obj2=mammal()"
   ]
  },
  {
   "cell_type": "code",
   "execution_count": 73,
   "id": "bdce8ee2-fc45-42a6-b3cd-050d0e140c03",
   "metadata": {},
   "outputs": [
    {
     "name": "stdout",
     "output_type": "stream",
     "text": [
      "Last Greet class\n"
     ]
    }
   ],
   "source": [
    "class Employee:\n",
    "    def greet(self):\n",
    "        print(\"Employee class\")\n",
    "\n",
    "class person:\n",
    "    def greet(self):\n",
    "        print(\"Last Greet class\")\n",
    "\n",
    "class Manager(person,Employee):\n",
    "    def _init_(self):\n",
    "        print(\"Manager class calls...\")\n",
    "\n",
    "obj=Manager()\n",
    "obj.greet()"
   ]
  },
  {
   "cell_type": "markdown",
   "id": "8e3da3e2-9b7a-41b2-8167-1bee06bcfec4",
   "metadata": {},
   "source": [
    "# dir = show all the method of that module or function"
   ]
  },
  {
   "cell_type": "code",
   "execution_count": 75,
   "id": "413bfc14-cd1a-461b-a691-e093880c968c",
   "metadata": {},
   "outputs": [
    {
     "data": {
      "text/plain": [
       "['__add__',\n",
       " '__class__',\n",
       " '__contains__',\n",
       " '__delattr__',\n",
       " '__dir__',\n",
       " '__doc__',\n",
       " '__eq__',\n",
       " '__format__',\n",
       " '__ge__',\n",
       " '__getattribute__',\n",
       " '__getitem__',\n",
       " '__getnewargs__',\n",
       " '__getstate__',\n",
       " '__gt__',\n",
       " '__hash__',\n",
       " '__init__',\n",
       " '__init_subclass__',\n",
       " '__iter__',\n",
       " '__le__',\n",
       " '__len__',\n",
       " '__lt__',\n",
       " '__mod__',\n",
       " '__mul__',\n",
       " '__ne__',\n",
       " '__new__',\n",
       " '__reduce__',\n",
       " '__reduce_ex__',\n",
       " '__repr__',\n",
       " '__rmod__',\n",
       " '__rmul__',\n",
       " '__setattr__',\n",
       " '__sizeof__',\n",
       " '__str__',\n",
       " '__subclasshook__',\n",
       " 'capitalize',\n",
       " 'casefold',\n",
       " 'center',\n",
       " 'count',\n",
       " 'encode',\n",
       " 'endswith',\n",
       " 'expandtabs',\n",
       " 'find',\n",
       " 'format',\n",
       " 'format_map',\n",
       " 'index',\n",
       " 'isalnum',\n",
       " 'isalpha',\n",
       " 'isascii',\n",
       " 'isdecimal',\n",
       " 'isdigit',\n",
       " 'isidentifier',\n",
       " 'islower',\n",
       " 'isnumeric',\n",
       " 'isprintable',\n",
       " 'isspace',\n",
       " 'istitle',\n",
       " 'isupper',\n",
       " 'join',\n",
       " 'ljust',\n",
       " 'lower',\n",
       " 'lstrip',\n",
       " 'maketrans',\n",
       " 'partition',\n",
       " 'removeprefix',\n",
       " 'removesuffix',\n",
       " 'replace',\n",
       " 'rfind',\n",
       " 'rindex',\n",
       " 'rjust',\n",
       " 'rpartition',\n",
       " 'rsplit',\n",
       " 'rstrip',\n",
       " 'split',\n",
       " 'splitlines',\n",
       " 'startswith',\n",
       " 'strip',\n",
       " 'swapcase',\n",
       " 'title',\n",
       " 'translate',\n",
       " 'upper',\n",
       " 'zfill']"
      ]
     },
     "execution_count": 75,
     "metadata": {},
     "output_type": "execute_result"
    }
   ],
   "source": [
    "dir(str)"
   ]
  },
  {
   "cell_type": "code",
   "execution_count": null,
   "id": "9b9af82a-a473-4636-b30c-10abe0202413",
   "metadata": {},
   "outputs": [],
   "source": []
  },
  {
   "cell_type": "code",
   "execution_count": 81,
   "id": "c463c94b-9258-47d3-856a-0697989871b1",
   "metadata": {},
   "outputs": [
    {
     "data": {
      "text/plain": [
       "['BPF',\n",
       " 'LOG4',\n",
       " 'NV_MAGICCONST',\n",
       " 'RECIP_BPF',\n",
       " 'Random',\n",
       " 'SG_MAGICCONST',\n",
       " 'SystemRandom',\n",
       " 'TWOPI',\n",
       " '_ONE',\n",
       " '_Sequence',\n",
       " '__all__',\n",
       " '__builtins__',\n",
       " '__cached__',\n",
       " '__doc__',\n",
       " '__file__',\n",
       " '__loader__',\n",
       " '__name__',\n",
       " '__package__',\n",
       " '__spec__',\n",
       " '_accumulate',\n",
       " '_acos',\n",
       " '_bisect',\n",
       " '_ceil',\n",
       " '_cos',\n",
       " '_e',\n",
       " '_exp',\n",
       " '_fabs',\n",
       " '_floor',\n",
       " '_index',\n",
       " '_inst',\n",
       " '_isfinite',\n",
       " '_lgamma',\n",
       " '_log',\n",
       " '_log2',\n",
       " '_os',\n",
       " '_pi',\n",
       " '_random',\n",
       " '_repeat',\n",
       " '_sha512',\n",
       " '_sin',\n",
       " '_sqrt',\n",
       " '_test',\n",
       " '_test_generator',\n",
       " '_urandom',\n",
       " '_warn',\n",
       " 'betavariate',\n",
       " 'binomialvariate',\n",
       " 'choice',\n",
       " 'choices',\n",
       " 'expovariate',\n",
       " 'gammavariate',\n",
       " 'gauss',\n",
       " 'getrandbits',\n",
       " 'getstate',\n",
       " 'lognormvariate',\n",
       " 'normalvariate',\n",
       " 'paretovariate',\n",
       " 'randbytes',\n",
       " 'randint',\n",
       " 'random',\n",
       " 'randrange',\n",
       " 'sample',\n",
       " 'seed',\n",
       " 'setstate',\n",
       " 'shuffle',\n",
       " 'triangular',\n",
       " 'uniform',\n",
       " 'vonmisesvariate',\n",
       " 'weibullvariate']"
      ]
     },
     "execution_count": 81,
     "metadata": {},
     "output_type": "execute_result"
    }
   ],
   "source": [
    "import random as rand\n",
    "dir(rand)"
   ]
  },
  {
   "cell_type": "code",
   "execution_count": 84,
   "id": "300f128d-1ae8-4d4a-afbb-adc172f7ef54",
   "metadata": {},
   "outputs": [
    {
     "data": {
      "text/plain": [
       "'pythonpython'"
      ]
     },
     "execution_count": 84,
     "metadata": {},
     "output_type": "execute_result"
    }
   ],
   "source": [
    "class Text(str):\n",
    "    def duplicate(self):\n",
    "        return self + self \n",
    "\n",
    "t=Text(\"python\")\n",
    "t.duplicate()"
   ]
  },
  {
   "cell_type": "code",
   "execution_count": 86,
   "id": "a9b6c711-43dd-45d5-826e-401c904a55de",
   "metadata": {},
   "outputs": [
    {
     "name": "stdout",
     "output_type": "stream",
     "text": [
      "Welcome to Python Pizza!\n"
     ]
    },
    {
     "name": "stdin",
     "output_type": "stream",
     "text": [
      "What size pizza do you want? (S/M/L):  s\n",
      "Do you want pepperoni? (Y/N):  y\n",
      "Do you want extra cheese? (Y/N):  y\n"
     ]
    },
    {
     "name": "stdout",
     "output_type": "stream",
     "text": [
      "Your final bill is: $18\n"
     ]
    }
   ],
   "source": [
    "# Welcome message\n",
    "print(\"Welcome to Python Pizza!\")\n",
    "\n",
    "# Get user input\n",
    "size = input(\"What size pizza do you want? (S/M/L): \").upper()\n",
    "add_pepperoni = input(\"Do you want pepperoni? (Y/N): \").upper()\n",
    "extra_cheese = input(\"Do you want extra cheese? (Y/N): \").upper()\n",
    "\n",
    "# Set base price\n",
    "if size == \"S\":\n",
    "    bill = 15\n",
    "elif size == \"M\":\n",
    "    bill = 20\n",
    "elif size == \"L\":\n",
    "    bill = 25\n",
    "else:\n",
    "    print(\"Invalid size! Please enter S, M, or L.\")\n",
    "    exit()\n",
    "\n",
    "# Add cost for pepperoni\n",
    "if add_pepperoni == \"Y\":\n",
    "    if size == \"S\":\n",
    "        bill += 2\n",
    "    else:\n",
    "        bill += 3\n",
    "\n",
    "# Add cost for extra cheese\n",
    "if extra_cheese == \"Y\":\n",
    "    bill += 1\n",
    "\n",
    "# Display final bill\n",
    "print(f\"Your final bill is: ${bill}\")\n"
   ]
  },
  {
   "cell_type": "code",
   "execution_count": 5,
   "id": "f0aa3050-835a-4bcf-b303-27072fdcd583",
   "metadata": {},
   "outputs": [
    {
     "name": "stdin",
     "output_type": "stream",
     "text": [
      "enter file path darshana.txt\n"
     ]
    },
    {
     "name": "stdout",
     "output_type": "stream",
     "text": [
      "hello,this is s test file created in jupyter notebook.\n"
     ]
    }
   ],
   "source": [
    "def read_file_contents(file_path):\n",
    "    try:\n",
    "        # Open the file in read mode\n",
    "        with open(file_path, 'r') as file:\n",
    "            return file.read()\n",
    "    except FileNotFoundError:\n",
    "        return \"The file was not found.\"\n",
    "    except PermissionError:\n",
    "        return \"Permission denied: You do not have permission to read the file.\"\n",
    "    except Exception as e:\n",
    "        return f\"An unknown error occurred: {e}\"\n",
    "\n",
    "file_path= input(\"enter file path\")\n",
    "print(read_file_contents(file_path))\n"
   ]
  },
  {
   "cell_type": "markdown",
   "id": "e7007406-80f3-48df-abd9-9c7c1204a44a",
   "metadata": {},
   "source": [
    "# write a program to input a list and an element and remove all occurances of that given elements in the list"
   ]
  },
  {
   "cell_type": "code",
   "execution_count": 9,
   "id": "010d0261-1fb8-445c-888c-e8b4f7732028",
   "metadata": {},
   "outputs": [
    {
     "name": "stdin",
     "output_type": "stream",
     "text": [
      "Enter list elements:  1 3 4 5 5\n",
      "Enter element to remove:  5\n"
     ]
    },
    {
     "name": "stdout",
     "output_type": "stream",
     "text": [
      "Updated list: [1, 3, 4]\n"
     ]
    }
   ],
   "source": [
    "def remove_occurrences(lst, element):\n",
    "    while element in lst:\n",
    "        lst.remove(element)\n",
    "    return lst\n",
    "\n",
    "lst = input(\"Enter list elements: \").split()\n",
    "lst = [int(x) for x in lst]\n",
    "element = int(input(\"Enter element to remove: \"))\n",
    "print(\"Updated list:\", remove_occurrences(lst, element))\n"
   ]
  },
  {
   "cell_type": "code",
   "execution_count": null,
   "id": "2531722b-f35f-4158-bb05-9d4055b100cf",
   "metadata": {},
   "outputs": [],
   "source": []
  }
 ],
 "metadata": {
  "kernelspec": {
   "display_name": "Python [conda env:base] *",
   "language": "python",
   "name": "conda-base-py"
  },
  "language_info": {
   "codemirror_mode": {
    "name": "ipython",
    "version": 3
   },
   "file_extension": ".py",
   "mimetype": "text/x-python",
   "name": "python",
   "nbconvert_exporter": "python",
   "pygments_lexer": "ipython3",
   "version": "3.12.7"
  }
 },
 "nbformat": 4,
 "nbformat_minor": 5
}
